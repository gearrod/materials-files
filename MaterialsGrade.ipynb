{
  "cells": [
    {
      "cell_type": "code",
      "execution_count": 14,
      "metadata": {
        "colab": {
          "base_uri": "https://localhost:8080/",
          "height": 424
        },
        "id": "Q2pmTfBKux2d",
        "outputId": "bf442c3c-2f7a-40e4-f570-82b28956e4ac"
      },
      "outputs": [],
      "source": [
        "# Imports\n",
        "import pandas as pd\n",
        "import numpy as np\n",
        "import os\n",
        "\n",
        "degrees=[45,50,60,70,75,80,90]\n",
        "\n",
        "partial_data = {\n",
        "    'porus' : {deg:None for deg in degrees},\n",
        "    'non-porus' : {deg:None for deg in degrees}\n",
        "}\n",
        "\n",
        "# Load porus partial_data\n",
        "for k,v in partial_data['porus'].items():\n",
        "  partial_data['porus'][k]=pd.read_csv(f'./data_csv/DATOS_POROS_PROPIEDADES_EFECTIVAS_AXIALES angulo{k}.csv')\n",
        "\n",
        "# Load non-porus partial_data\n",
        "for k,v in partial_data['non-porus'].items():\n",
        "  partial_data['non-porus'][k]=pd.read_csv(f'./data_csv/DATOS_PROPIEDADES_EFECTIVAS_AXIALES angulo{k}.csv')\n",
        "\n",
        "# Load extra data from the data_xls/extra files\n",
        "xls_extra_files = os.listdir('./data_xls/extra') # Scan xls files in the folder\n"
      ]
    },
    {
      "cell_type": "code",
      "execution_count": 15,
      "metadata": {},
      "outputs": [
        {
          "data": {
            "text/plain": [
              "(21420, 8)"
            ]
          },
          "execution_count": 15,
          "metadata": {},
          "output_type": "execute_result"
        }
      ],
      "source": [
        "for file in xls_extra_files:\n",
        "    angle = int(file[42:44])\n",
        "\n",
        "    # Add the extra data to non-porus datasets according to the angle\n",
        "    partial_data['non-porus'][angle] = pd.concat([partial_data['non-porus'][angle], pd.read_excel(f'./data_xls/extra/{file}')], ignore_index=True)\n",
        "\n",
        "# Concat the dataset grouped by\n",
        "middle_data={\n",
        "    'porus': pd.concat(partial_data['porus'].values(), ignore_index=True),\n",
        "    'non-porus': pd.concat(partial_data['non-porus'].values(), ignore_index=True)\n",
        "}\n",
        "\n",
        "middle_data['porus'].shape"
      ]
    },
    {
      "cell_type": "code",
      "execution_count": 4,
      "metadata": {
        "colab": {
          "base_uri": "https://localhost:8080/",
          "height": 424
        },
        "id": "0gWkC83t6Bdq",
        "outputId": "4abbb04b-94d5-4eb8-bcfe-2ac6e4408df0"
      },
      "outputs": [],
      "source": [
        "data=pd.concat(middle_data.values(), ignore_index=True)\n",
        "\n",
        "# Shuffles the dataset\n",
        "data=data.sample(frac=1).reset_index(drop=True)"
      ]
    },
    {
      "cell_type": "code",
      "execution_count": 5,
      "metadata": {
        "colab": {
          "base_uri": "https://localhost:8080/",
          "height": 424
        },
        "id": "jV7zpi9Kp2OH",
        "outputId": "6fce3134-daa0-4d5c-ca0a-17da267af7a9"
      },
      "outputs": [
        {
          "data": {
            "text/html": [
              "<div>\n",
              "<style scoped>\n",
              "    .dataframe tbody tr th:only-of-type {\n",
              "        vertical-align: middle;\n",
              "    }\n",
              "\n",
              "    .dataframe tbody tr th {\n",
              "        vertical-align: top;\n",
              "    }\n",
              "\n",
              "    .dataframe thead th {\n",
              "        text-align: right;\n",
              "    }\n",
              "</style>\n",
              "<table border=\"1\" class=\"dataframe\">\n",
              "  <thead>\n",
              "    <tr style=\"text-align: right;\">\n",
              "      <th></th>\n",
              "      <th>angle</th>\n",
              "      <th>p_matrix</th>\n",
              "      <th>p_fiber</th>\n",
              "      <th>radius</th>\n",
              "      <th>ratio</th>\n",
              "      <th>p11</th>\n",
              "      <th>p22</th>\n",
              "      <th>p12</th>\n",
              "    </tr>\n",
              "  </thead>\n",
              "  <tbody>\n",
              "    <tr>\n",
              "      <th>0</th>\n",
              "      <td>75.0</td>\n",
              "      <td>212.0</td>\n",
              "      <td>90.0</td>\n",
              "      <td>0.214755</td>\n",
              "      <td>0.15</td>\n",
              "      <td>187.795432</td>\n",
              "      <td>187.753874</td>\n",
              "      <td>0.077548</td>\n",
              "    </tr>\n",
              "    <tr>\n",
              "      <th>1</th>\n",
              "      <td>60.0</td>\n",
              "      <td>110.0</td>\n",
              "      <td>0.0</td>\n",
              "      <td>0.138912</td>\n",
              "      <td>0.07</td>\n",
              "      <td>95.607477</td>\n",
              "      <td>95.607477</td>\n",
              "      <td>0.000000</td>\n",
              "    </tr>\n",
              "    <tr>\n",
              "      <th>2</th>\n",
              "      <td>50.0</td>\n",
              "      <td>89.0</td>\n",
              "      <td>50.0</td>\n",
              "      <td>0.287933</td>\n",
              "      <td>0.34</td>\n",
              "      <td>73.359618</td>\n",
              "      <td>73.628254</td>\n",
              "      <td>-0.160073</td>\n",
              "    </tr>\n",
              "    <tr>\n",
              "      <th>3</th>\n",
              "      <td>70.0</td>\n",
              "      <td>1.0</td>\n",
              "      <td>370.0</td>\n",
              "      <td>0.323558</td>\n",
              "      <td>0.35</td>\n",
              "      <td>2.082214</td>\n",
              "      <td>2.059966</td>\n",
              "      <td>0.030562</td>\n",
              "    </tr>\n",
              "    <tr>\n",
              "      <th>4</th>\n",
              "      <td>90.0</td>\n",
              "      <td>1.0</td>\n",
              "      <td>310.0</td>\n",
              "      <td>0.365637</td>\n",
              "      <td>0.42</td>\n",
              "      <td>2.455828</td>\n",
              "      <td>2.455828</td>\n",
              "      <td>0.000000</td>\n",
              "    </tr>\n",
              "    <tr>\n",
              "      <th>...</th>\n",
              "      <td>...</td>\n",
              "      <td>...</td>\n",
              "      <td>...</td>\n",
              "      <td>...</td>\n",
              "      <td>...</td>\n",
              "      <td>...</td>\n",
              "      <td>...</td>\n",
              "      <td>...</td>\n",
              "    </tr>\n",
              "    <tr>\n",
              "      <th>136675</th>\n",
              "      <td>45.0</td>\n",
              "      <td>43.0</td>\n",
              "      <td>80.0</td>\n",
              "      <td>0.292455</td>\n",
              "      <td>0.38</td>\n",
              "      <td>53.835903</td>\n",
              "      <td>54.403646</td>\n",
              "      <td>-0.283872</td>\n",
              "    </tr>\n",
              "    <tr>\n",
              "      <th>136676</th>\n",
              "      <td>50.0</td>\n",
              "      <td>28.0</td>\n",
              "      <td>60.0</td>\n",
              "      <td>0.265920</td>\n",
              "      <td>0.29</td>\n",
              "      <td>34.527110</td>\n",
              "      <td>34.681991</td>\n",
              "      <td>-0.092289</td>\n",
              "    </tr>\n",
              "    <tr>\n",
              "      <th>136677</th>\n",
              "      <td>70.0</td>\n",
              "      <td>67.0</td>\n",
              "      <td>2.0</td>\n",
              "      <td>0.181390</td>\n",
              "      <td>0.11</td>\n",
              "      <td>54.440770</td>\n",
              "      <td>54.394787</td>\n",
              "      <td>0.063168</td>\n",
              "    </tr>\n",
              "    <tr>\n",
              "      <th>136678</th>\n",
              "      <td>80.0</td>\n",
              "      <td>90.0</td>\n",
              "      <td>0.0</td>\n",
              "      <td>0.391921</td>\n",
              "      <td>0.49</td>\n",
              "      <td>30.394230</td>\n",
              "      <td>30.089470</td>\n",
              "      <td>0.864190</td>\n",
              "    </tr>\n",
              "    <tr>\n",
              "      <th>136679</th>\n",
              "      <td>50.0</td>\n",
              "      <td>1.0</td>\n",
              "      <td>40.0</td>\n",
              "      <td>0.251790</td>\n",
              "      <td>0.26</td>\n",
              "      <td>1.637685</td>\n",
              "      <td>1.680802</td>\n",
              "      <td>-0.025693</td>\n",
              "    </tr>\n",
              "  </tbody>\n",
              "</table>\n",
              "<p>136680 rows × 8 columns</p>\n",
              "</div>"
            ],
            "text/plain": [
              "        angle  p_matrix  p_fiber    radius  ratio         p11         p22  \\\n",
              "0        75.0     212.0     90.0  0.214755   0.15  187.795432  187.753874   \n",
              "1        60.0     110.0      0.0  0.138912   0.07   95.607477   95.607477   \n",
              "2        50.0      89.0     50.0  0.287933   0.34   73.359618   73.628254   \n",
              "3        70.0       1.0    370.0  0.323558   0.35    2.082214    2.059966   \n",
              "4        90.0       1.0    310.0  0.365637   0.42    2.455828    2.455828   \n",
              "...       ...       ...      ...       ...    ...         ...         ...   \n",
              "136675   45.0      43.0     80.0  0.292455   0.38   53.835903   54.403646   \n",
              "136676   50.0      28.0     60.0  0.265920   0.29   34.527110   34.681991   \n",
              "136677   70.0      67.0      2.0  0.181390   0.11   54.440770   54.394787   \n",
              "136678   80.0      90.0      0.0  0.391921   0.49   30.394230   30.089470   \n",
              "136679   50.0       1.0     40.0  0.251790   0.26    1.637685    1.680802   \n",
              "\n",
              "             p12  \n",
              "0       0.077548  \n",
              "1       0.000000  \n",
              "2      -0.160073  \n",
              "3       0.030562  \n",
              "4       0.000000  \n",
              "...          ...  \n",
              "136675 -0.283872  \n",
              "136676 -0.092289  \n",
              "136677  0.063168  \n",
              "136678  0.864190  \n",
              "136679 -0.025693  \n",
              "\n",
              "[136680 rows x 8 columns]"
            ]
          },
          "execution_count": 5,
          "metadata": {},
          "output_type": "execute_result"
        }
      ],
      "source": [
        "data.columns=[\"angle\",\"p_matrix\",\"p_fiber\",\"radius\",\"ratio\",\"p11\",\"p22\",\"p12\"]\n",
        "\n",
        "data"
      ]
    },
    {
      "cell_type": "code",
      "execution_count": 6,
      "metadata": {},
      "outputs": [
        {
          "name": "stdout",
          "output_type": "stream",
          "text": [
            "<class 'pandas.core.frame.DataFrame'>\n",
            "RangeIndex: 136680 entries, 0 to 136679\n",
            "Data columns (total 8 columns):\n",
            " #   Column    Non-Null Count   Dtype  \n",
            "---  ------    --------------   -----  \n",
            " 0   angle     136680 non-null  float64\n",
            " 1   p_matrix  136680 non-null  float64\n",
            " 2   p_fiber   136680 non-null  float64\n",
            " 3   radius    136680 non-null  float64\n",
            " 4   ratio     136680 non-null  float64\n",
            " 5   p11       136680 non-null  float64\n",
            " 6   p22       136680 non-null  float64\n",
            " 7   p12       136680 non-null  float64\n",
            "dtypes: float64(8)\n",
            "memory usage: 8.3 MB\n"
          ]
        },
        {
          "data": {
            "text/html": [
              "<div>\n",
              "<style scoped>\n",
              "    .dataframe tbody tr th:only-of-type {\n",
              "        vertical-align: middle;\n",
              "    }\n",
              "\n",
              "    .dataframe tbody tr th {\n",
              "        vertical-align: top;\n",
              "    }\n",
              "\n",
              "    .dataframe thead th {\n",
              "        text-align: right;\n",
              "    }\n",
              "</style>\n",
              "<table border=\"1\" class=\"dataframe\">\n",
              "  <thead>\n",
              "    <tr style=\"text-align: right;\">\n",
              "      <th></th>\n",
              "      <th>angle</th>\n",
              "      <th>p_matrix</th>\n",
              "      <th>p_fiber</th>\n",
              "      <th>radius</th>\n",
              "      <th>ratio</th>\n",
              "      <th>p11</th>\n",
              "      <th>p22</th>\n",
              "      <th>p12</th>\n",
              "    </tr>\n",
              "  </thead>\n",
              "  <tbody>\n",
              "    <tr>\n",
              "      <th>count</th>\n",
              "      <td>136680.000000</td>\n",
              "      <td>136680.000000</td>\n",
              "      <td>136680.000000</td>\n",
              "      <td>136680.000000</td>\n",
              "      <td>136680.000000</td>\n",
              "      <td>136680.000000</td>\n",
              "      <td>136680.000000</td>\n",
              "      <td>136680.000000</td>\n",
              "    </tr>\n",
              "    <tr>\n",
              "      <th>mean</th>\n",
              "      <td>63.656716</td>\n",
              "      <td>103.491220</td>\n",
              "      <td>210.853965</td>\n",
              "      <td>0.239556</td>\n",
              "      <td>0.236343</td>\n",
              "      <td>88.694102</td>\n",
              "      <td>89.305114</td>\n",
              "      <td>-0.229389</td>\n",
              "    </tr>\n",
              "    <tr>\n",
              "      <th>std</th>\n",
              "      <td>16.198044</td>\n",
              "      <td>155.741281</td>\n",
              "      <td>162.841130</td>\n",
              "      <td>0.087332</td>\n",
              "      <td>0.143878</td>\n",
              "      <td>118.199643</td>\n",
              "      <td>118.287700</td>\n",
              "      <td>1.719020</td>\n",
              "    </tr>\n",
              "    <tr>\n",
              "      <th>min</th>\n",
              "      <td>45.000000</td>\n",
              "      <td>1.000000</td>\n",
              "      <td>0.000000</td>\n",
              "      <td>0.047442</td>\n",
              "      <td>0.010000</td>\n",
              "      <td>0.303162</td>\n",
              "      <td>0.460516</td>\n",
              "      <td>-33.023659</td>\n",
              "    </tr>\n",
              "    <tr>\n",
              "      <th>25%</th>\n",
              "      <td>50.000000</td>\n",
              "      <td>10.000000</td>\n",
              "      <td>50.000000</td>\n",
              "      <td>0.177514</td>\n",
              "      <td>0.120000</td>\n",
              "      <td>12.928464</td>\n",
              "      <td>13.522643</td>\n",
              "      <td>-0.106821</td>\n",
              "    </tr>\n",
              "    <tr>\n",
              "      <th>50%</th>\n",
              "      <td>60.000000</td>\n",
              "      <td>43.000000</td>\n",
              "      <td>200.000000</td>\n",
              "      <td>0.246710</td>\n",
              "      <td>0.230000</td>\n",
              "      <td>52.419581</td>\n",
              "      <td>53.002419</td>\n",
              "      <td>0.000000</td>\n",
              "    </tr>\n",
              "    <tr>\n",
              "      <th>75%</th>\n",
              "      <td>80.000000</td>\n",
              "      <td>130.000000</td>\n",
              "      <td>350.000000</td>\n",
              "      <td>0.301509</td>\n",
              "      <td>0.340000</td>\n",
              "      <td>125.426187</td>\n",
              "      <td>126.489131</td>\n",
              "      <td>0.010421</td>\n",
              "    </tr>\n",
              "    <tr>\n",
              "      <th>max</th>\n",
              "      <td>90.000000</td>\n",
              "      <td>1000.000000</td>\n",
              "      <td>500.000000</td>\n",
              "      <td>0.437019</td>\n",
              "      <td>0.600000</td>\n",
              "      <td>993.355482</td>\n",
              "      <td>993.355482</td>\n",
              "      <td>7.364014</td>\n",
              "    </tr>\n",
              "  </tbody>\n",
              "</table>\n",
              "</div>"
            ],
            "text/plain": [
              "               angle       p_matrix        p_fiber         radius  \\\n",
              "count  136680.000000  136680.000000  136680.000000  136680.000000   \n",
              "mean       63.656716     103.491220     210.853965       0.239556   \n",
              "std        16.198044     155.741281     162.841130       0.087332   \n",
              "min        45.000000       1.000000       0.000000       0.047442   \n",
              "25%        50.000000      10.000000      50.000000       0.177514   \n",
              "50%        60.000000      43.000000     200.000000       0.246710   \n",
              "75%        80.000000     130.000000     350.000000       0.301509   \n",
              "max        90.000000    1000.000000     500.000000       0.437019   \n",
              "\n",
              "               ratio            p11            p22            p12  \n",
              "count  136680.000000  136680.000000  136680.000000  136680.000000  \n",
              "mean        0.236343      88.694102      89.305114      -0.229389  \n",
              "std         0.143878     118.199643     118.287700       1.719020  \n",
              "min         0.010000       0.303162       0.460516     -33.023659  \n",
              "25%         0.120000      12.928464      13.522643      -0.106821  \n",
              "50%         0.230000      52.419581      53.002419       0.000000  \n",
              "75%         0.340000     125.426187     126.489131       0.010421  \n",
              "max         0.600000     993.355482     993.355482       7.364014  "
            ]
          },
          "execution_count": 6,
          "metadata": {},
          "output_type": "execute_result"
        }
      ],
      "source": [
        "data.info()\n",
        "data.describe()"
      ]
    },
    {
      "cell_type": "code",
      "execution_count": 7,
      "metadata": {},
      "outputs": [],
      "source": [
        "from sklearn.model_selection import train_test_split\n",
        "\n",
        "# Separate special testing group\n",
        "# Separate only angle=75 data\n",
        "data_val_sp=data[data[\"angle\"]==75]\n",
        "\n",
        "# Delete angle=75 from data\n",
        "data=data[data[\"angle\"]!=75]\n",
        "\n",
        "# Separate validation group\n",
        "# Separate 20% of the data for validation\n",
        "data_val=data.sample(frac=0.2, random_state=30)\n",
        "data=data.drop(data_val.index)"
      ]
    },
    {
      "cell_type": "code",
      "execution_count": 8,
      "metadata": {},
      "outputs": [
        {
          "data": {
            "text/plain": [
              "<Axes: >"
            ]
          },
          "execution_count": 8,
          "metadata": {},
          "output_type": "execute_result"
        },
        {
          "data": {
            "image/png": "[encoded data removed]",
            "text/plain": [
              "<Figure size 600x500 with 2 Axes>"
            ]
          },
          "metadata": {},
          "output_type": "display_data"
        }
      ],
      "source": [
        "import seaborn as sns\n",
        "from matplotlib import pyplot as plt\n",
        "\n",
        "plt.figure(figsize=(6,5))\n",
        "\n",
        "sns.heatmap(data.corr(), annot=True, linewidths=0, cmap=\"icefire\")"
      ]
    },
    {
      "cell_type": "code",
      "execution_count": 9,
      "metadata": {},
      "outputs": [
        {
          "name": "stderr",
          "output_type": "stream",
          "text": [
            "2023-12-17 08:22:30.723961: I tensorflow/core/util/port.cc:111] oneDNN custom operations are on. You may see slightly different numerical results due to floating-point round-off errors from different computation orders. To turn them off, set the environment variable `TF_ENABLE_ONEDNN_OPTS=0`.\n",
            "2023-12-17 08:22:30.763019: I tensorflow/tsl/cuda/cudart_stub.cc:28] Could not find cuda drivers on your machine, GPU will not be used.\n",
            "2023-12-17 08:22:30.926913: E tensorflow/compiler/xla/stream_executor/cuda/cuda_dnn.cc:9342] Unable to register cuDNN factory: Attempting to register factory for plugin cuDNN when one has already been registered\n",
            "2023-12-17 08:22:30.926938: E tensorflow/compiler/xla/stream_executor/cuda/cuda_fft.cc:609] Unable to register cuFFT factory: Attempting to register factory for plugin cuFFT when one has already been registered\n",
            "2023-12-17 08:22:30.927540: E tensorflow/compiler/xla/stream_executor/cuda/cuda_blas.cc:1518] Unable to register cuBLAS factory: Attempting to register factory for plugin cuBLAS when one has already been registered\n",
            "2023-12-17 08:22:31.009009: I tensorflow/tsl/cuda/cudart_stub.cc:28] Could not find cuda drivers on your machine, GPU will not be used.\n",
            "2023-12-17 08:22:31.009670: I tensorflow/core/platform/cpu_feature_guard.cc:182] This TensorFlow binary is optimized to use available CPU instructions in performance-critical operations.\n",
            "To enable the following instructions: AVX2 AVX512F AVX512_VNNI FMA, in other operations, rebuild TensorFlow with the appropriate compiler flags.\n",
            "2023-12-17 08:22:31.916014: W tensorflow/compiler/tf2tensorrt/utils/py_utils.cc:38] TF-TRT Warning: Could not find TensorRT\n"
          ]
        }
      ],
      "source": [
        "# Import utils\n",
        "from utils.kfold import *\n",
        "from utils.pipeline import *\n",
        "from utils.tuning import *\n"
      ]
    },
    {
      "cell_type": "code",
      "execution_count": 10,
      "metadata": {},
      "outputs": [
        {
          "name": "stderr",
          "output_type": "stream",
          "text": [
            "[Parallel(n_jobs=-1)]: Using backend LokyBackend with 4 concurrent workers.\n"
          ]
        },
        {
          "name": "stdout",
          "output_type": "stream",
          "text": [
            "[CV] END ................ MSE: (test=-2.304) R2: (test=0.140) total time=   0.0s\n",
            "[CV] END ................ MSE: (test=-2.463) R2: (test=0.150) total time=   0.0s\n",
            "[CV] END ................ MSE: (test=-2.490) R2: (test=0.144) total time=   0.0s\n",
            "[CV] END ................ MSE: (test=-2.567) R2: (test=0.148) total time=   0.0s\n",
            "[CV] END ................ MSE: (test=-2.599) R2: (test=0.155) total time=   0.0s\n"
          ]
        },
        {
          "name": "stderr",
          "output_type": "stream",
          "text": [
            "[Parallel(n_jobs=-1)]: Done   2 out of   5 | elapsed:    0.7s remaining:    1.1s\n",
            "[Parallel(n_jobs=-1)]: Done   5 out of   5 | elapsed:    0.8s finished\n"
          ]
        },
        {
          "name": "stdout",
          "output_type": "stream",
          "text": [
            "{'fit_time': array([0.03358197, 0.01836872, 0.01745605, 0.01171494, 0.01253104]), 'score_time': array([0.00279093, 0.00342989, 0.00312686, 0.0027163 , 0.00251794]), 'test_MSE': array([-2.30352275, -2.48969721, -2.46279016, -2.59856033, -2.56734954]), 'test_R2': array([0.14043252, 0.14417867, 0.15003868, 0.15454377, 0.14767766])}\n",
            "<class 'dict'>\n"
          ]
        },
        {
          "name": "stderr",
          "output_type": "stream",
          "text": [
            "[Parallel(n_jobs=-1)]: Using backend LokyBackend with 4 concurrent workers.\n"
          ]
        },
        {
          "name": "stdout",
          "output_type": "stream",
          "text": [
            "[CV] END ................ MSE: (test=-0.004) R2: (test=0.999) total time=   0.2s\n",
            "[CV] END ................ MSE: (test=-0.004) R2: (test=0.999) total time=   0.2s\n",
            "[CV] END ................ MSE: (test=-0.004) R2: (test=0.999) total time=   0.2s\n",
            "[CV] END ................ MSE: (test=-0.004) R2: (test=0.999) total time=   0.2s\n",
            "[CV] END ................ MSE: (test=-0.004) R2: (test=0.999) total time=   0.1s\n"
          ]
        },
        {
          "name": "stderr",
          "output_type": "stream",
          "text": [
            "[Parallel(n_jobs=-1)]: Done   2 out of   5 | elapsed:    0.2s remaining:    0.3s\n",
            "[Parallel(n_jobs=-1)]: Done   5 out of   5 | elapsed:    0.3s finished\n"
          ]
        },
        {
          "name": "stdout",
          "output_type": "stream",
          "text": [
            "{'fit_time': array([0.15708518, 0.14449406, 0.16255856, 0.13660526, 0.12121701]), 'score_time': array([0.01139927, 0.00850439, 0.00835252, 0.01406288, 0.00703955]), 'test_MSE': array([-0.00367874, -0.00403354, -0.00380176, -0.00407329, -0.00438271]), 'test_R2': array([0.99862726, 0.99861349, 0.99868793, 0.99867473, 0.998545  ])}\n",
            "<class 'dict'>\n"
          ]
        },
        {
          "name": "stderr",
          "output_type": "stream",
          "text": [
            "[Parallel(n_jobs=-1)]: Using backend LokyBackend with 4 concurrent workers.\n",
            "/home/gearrod/projects/thesis/materials-files/.env/lib/python3.11/site-packages/sklearn/utils/validation.py:1183: DataConversionWarning: A column-vector y was passed when a 1d array was expected. Please change the shape of y to (n_samples, ), for example using ravel().\n",
            "  y = column_or_1d(y, warn=True)\n",
            "/home/gearrod/projects/thesis/materials-files/.env/lib/python3.11/site-packages/sklearn/utils/validation.py:1183: DataConversionWarning: A column-vector y was passed when a 1d array was expected. Please change the shape of y to (n_samples, ), for example using ravel().\n",
            "  y = column_or_1d(y, warn=True)\n",
            "/home/gearrod/projects/thesis/materials-files/.env/lib/python3.11/site-packages/sklearn/utils/validation.py:1183: DataConversionWarning: A column-vector y was passed when a 1d array was expected. Please change the shape of y to (n_samples, ), for example using ravel().\n",
            "  y = column_or_1d(y, warn=True)\n",
            "/home/gearrod/projects/thesis/materials-files/.env/lib/python3.11/site-packages/sklearn/utils/validation.py:1183: DataConversionWarning: A column-vector y was passed when a 1d array was expected. Please change the shape of y to (n_samples, ), for example using ravel().\n",
            "  y = column_or_1d(y, warn=True)\n"
          ]
        },
        {
          "name": "stdout",
          "output_type": "stream",
          "text": [
            "[CV] END ................ MSE: (test=-0.007) R2: (test=0.998) total time=   0.5s\n",
            "[CV] END ................ MSE: (test=-0.006) R2: (test=0.998) total time=   0.6s\n",
            "[CV] END ................ MSE: (test=-0.007) R2: (test=0.998) total time=   0.6s\n"
          ]
        },
        {
          "name": "stderr",
          "output_type": "stream",
          "text": [
            "/home/gearrod/projects/thesis/materials-files/.env/lib/python3.11/site-packages/sklearn/utils/validation.py:1183: DataConversionWarning: A column-vector y was passed when a 1d array was expected. Please change the shape of y to (n_samples, ), for example using ravel().\n",
            "  y = column_or_1d(y, warn=True)\n",
            "[Parallel(n_jobs=-1)]: Done   2 out of   5 | elapsed:    0.6s remaining:    0.9s\n"
          ]
        },
        {
          "name": "stdout",
          "output_type": "stream",
          "text": [
            "[CV] END ................ MSE: (test=-0.006) R2: (test=0.998) total time=   0.7s\n",
            "[CV] END ................ MSE: (test=-0.006) R2: (test=0.998) total time=   0.4s\n",
            "{'fit_time': array([0.49203658, 0.50453472, 0.58841443, 0.38486862, 0.34254622]), 'score_time': array([0.09616518, 0.10121894, 0.0858798 , 0.08712053, 0.08647466]), 'test_MSE': array([-0.00612514, -0.0069426 , -0.00605831, -0.00692327, -0.00642645]), 'test_R2': array([0.99771438, 0.99761352, 0.99790915, 0.99774748, 0.99786651])}\n",
            "<class 'dict'>\n"
          ]
        },
        {
          "name": "stderr",
          "output_type": "stream",
          "text": [
            "[Parallel(n_jobs=-1)]: Done   5 out of   5 | elapsed:    0.9s finished\n",
            "[Parallel(n_jobs=-1)]: Using backend LokyBackend with 4 concurrent workers.\n",
            "/home/gearrod/projects/thesis/materials-files/.env/lib/python3.11/site-packages/sklearn/utils/validation.py:1183: DataConversionWarning: A column-vector y was passed when a 1d array was expected. Please change the shape of y to (n_samples, ), for example using ravel().\n",
            "  y = column_or_1d(y, warn=True)\n",
            "/home/gearrod/projects/thesis/materials-files/.env/lib/python3.11/site-packages/sklearn/utils/validation.py:1183: DataConversionWarning: A column-vector y was passed when a 1d array was expected. Please change the shape of y to (n_samples, ), for example using ravel().\n",
            "  y = column_or_1d(y, warn=True)\n",
            "/home/gearrod/projects/thesis/materials-files/.env/lib/python3.11/site-packages/sklearn/utils/validation.py:1183: DataConversionWarning: A column-vector y was passed when a 1d array was expected. Please change the shape of y to (n_samples, ), for example using ravel().\n",
            "  y = column_or_1d(y, warn=True)\n",
            "/home/gearrod/projects/thesis/materials-files/.env/lib/python3.11/site-packages/sklearn/utils/validation.py:1183: DataConversionWarning: A column-vector y was passed when a 1d array was expected. Please change the shape of y to (n_samples, ), for example using ravel().\n",
            "  y = column_or_1d(y, warn=True)\n"
          ]
        },
        {
          "name": "stdout",
          "output_type": "stream",
          "text": [
            "[CV] END ................ MSE: (test=-0.004) R2: (test=0.999) total time=   0.4s\n",
            "[CV] END ................ MSE: (test=-0.004) R2: (test=0.999) total time=   0.4s\n",
            "[CV] END ................ MSE: (test=-0.005) R2: (test=0.998) total time=   0.5s\n",
            "[CV] END ................ MSE: (test=-0.005) R2: (test=0.998) total time=   0.5s\n"
          ]
        },
        {
          "name": "stderr",
          "output_type": "stream",
          "text": [
            "/home/gearrod/projects/thesis/materials-files/.env/lib/python3.11/site-packages/sklearn/utils/validation.py:1183: DataConversionWarning: A column-vector y was passed when a 1d array was expected. Please change the shape of y to (n_samples, ), for example using ravel().\n",
            "  y = column_or_1d(y, warn=True)\n",
            "[Parallel(n_jobs=-1)]: Done   2 out of   5 | elapsed:    0.5s remaining:    0.7s\n"
          ]
        },
        {
          "name": "stdout",
          "output_type": "stream",
          "text": [
            "[CV] END ................ MSE: (test=-0.004) R2: (test=0.999) total time=   0.4s\n",
            "{'fit_time': array([0.36821222, 0.37729979, 0.38848305, 0.33093286, 0.28414679]), 'score_time': array([0.07539034, 0.07462263, 0.07638741, 0.07218671, 0.06608891]), 'test_MSE': array([-0.00376544, -0.00502537, -0.00453371, -0.00442252, -0.0044903 ]), 'test_R2': array([0.99859491, 0.99827255, 0.99843532, 0.99856111, 0.99850929])}\n",
            "<class 'dict'>\n"
          ]
        },
        {
          "name": "stderr",
          "output_type": "stream",
          "text": [
            "[Parallel(n_jobs=-1)]: Done   5 out of   5 | elapsed:    0.8s finished\n",
            "[Parallel(n_jobs=-1)]: Using backend LokyBackend with 4 concurrent workers.\n",
            "/home/gearrod/projects/thesis/materials-files/.env/lib/python3.11/site-packages/sklearn/utils/validation.py:1183: DataConversionWarning: A column-vector y was passed when a 1d array was expected. Please change the shape of y to (n_samples, ), for example using ravel().\n",
            "  y = column_or_1d(y, warn=True)\n",
            "/home/gearrod/projects/thesis/materials-files/.env/lib/python3.11/site-packages/sklearn/utils/validation.py:1183: DataConversionWarning: A column-vector y was passed when a 1d array was expected. Please change the shape of y to (n_samples, ), for example using ravel().\n",
            "  y = column_or_1d(y, warn=True)\n",
            "/home/gearrod/projects/thesis/materials-files/.env/lib/python3.11/site-packages/sklearn/utils/validation.py:1183: DataConversionWarning: A column-vector y was passed when a 1d array was expected. Please change the shape of y to (n_samples, ), for example using ravel().\n",
            "  y = column_or_1d(y, warn=True)\n",
            "/home/gearrod/projects/thesis/materials-files/.env/lib/python3.11/site-packages/sklearn/utils/validation.py:1183: DataConversionWarning: A column-vector y was passed when a 1d array was expected. Please change the shape of y to (n_samples, ), for example using ravel().\n",
            "  y = column_or_1d(y, warn=True)\n"
          ]
        },
        {
          "name": "stdout",
          "output_type": "stream",
          "text": [
            "[CV] END ................ MSE: (test=-0.020) R2: (test=0.994) total time=   0.5s\n",
            "[CV] END ................ MSE: (test=-0.019) R2: (test=0.993) total time=   0.5s\n",
            "[CV] END ................ MSE: (test=-0.018) R2: (test=0.993) total time=   0.5s\n",
            "[CV] END ................ MSE: (test=-0.018) R2: (test=0.994) total time=   0.6s\n"
          ]
        },
        {
          "name": "stderr",
          "output_type": "stream",
          "text": [
            "[Parallel(n_jobs=-1)]: Done   2 out of   5 | elapsed:    0.6s remaining:    0.8s\n",
            "/home/gearrod/projects/thesis/materials-files/.env/lib/python3.11/site-packages/sklearn/utils/validation.py:1183: DataConversionWarning: A column-vector y was passed when a 1d array was expected. Please change the shape of y to (n_samples, ), for example using ravel().\n",
            "  y = column_or_1d(y, warn=True)\n"
          ]
        },
        {
          "name": "stdout",
          "output_type": "stream",
          "text": [
            "[CV] END ................ MSE: (test=-0.018) R2: (test=0.994) total time=   0.5s\n",
            "{'fit_time': array([0.43696833, 0.43208146, 0.50123453, 0.42367363, 0.38461447]), 'score_time': array([0.11033392, 0.1059854 , 0.11115694, 0.10406852, 0.09531093]), 'test_MSE': array([-0.01846489, -0.01945575, -0.01768112, -0.01986825, -0.01825277]), 'test_R2': array([0.99310976, 0.99331218, 0.99389787, 0.99353575, 0.99394035])}\n",
            "<class 'dict'>\n"
          ]
        },
        {
          "name": "stderr",
          "output_type": "stream",
          "text": [
            "[Parallel(n_jobs=-1)]: Done   5 out of   5 | elapsed:    1.0s finished\n",
            "[Parallel(n_jobs=-1)]: Using backend LokyBackend with 4 concurrent workers.\n",
            "/home/gearrod/projects/thesis/materials-files/.env/lib/python3.11/site-packages/sklearn/base.py:1152: DataConversionWarning: A column-vector y was passed when a 1d array was expected. Please change the shape of y to (n_samples,), for example using ravel().\n",
            "  return fit_method(estimator, *args, **kwargs)\n",
            "/home/gearrod/projects/thesis/materials-files/.env/lib/python3.11/site-packages/sklearn/base.py:1152: DataConversionWarning: A column-vector y was passed when a 1d array was expected. Please change the shape of y to (n_samples,), for example using ravel().\n",
            "  return fit_method(estimator, *args, **kwargs)\n",
            "/home/gearrod/projects/thesis/materials-files/.env/lib/python3.11/site-packages/sklearn/base.py:1152: DataConversionWarning: A column-vector y was passed when a 1d array was expected. Please change the shape of y to (n_samples,), for example using ravel().\n",
            "  return fit_method(estimator, *args, **kwargs)\n",
            "/home/gearrod/projects/thesis/materials-files/.env/lib/python3.11/site-packages/sklearn/base.py:1152: DataConversionWarning: A column-vector y was passed when a 1d array was expected. Please change the shape of y to (n_samples,), for example using ravel().\n",
            "  return fit_method(estimator, *args, **kwargs)\n"
          ]
        },
        {
          "name": "stdout",
          "output_type": "stream",
          "text": [
            "[CV] END ................ MSE: (test=-0.001) R2: (test=1.000) total time=   9.0s\n"
          ]
        },
        {
          "name": "stderr",
          "output_type": "stream",
          "text": [
            "/home/gearrod/projects/thesis/materials-files/.env/lib/python3.11/site-packages/sklearn/base.py:1152: DataConversionWarning: A column-vector y was passed when a 1d array was expected. Please change the shape of y to (n_samples,), for example using ravel().\n",
            "  return fit_method(estimator, *args, **kwargs)\n"
          ]
        },
        {
          "name": "stdout",
          "output_type": "stream",
          "text": [
            "[CV] END ................ MSE: (test=-0.001) R2: (test=1.000) total time=   9.7s\n",
            "[CV] END ................ MSE: (test=-0.001) R2: (test=1.000) total time=   9.7s\n"
          ]
        },
        {
          "name": "stderr",
          "output_type": "stream",
          "text": [
            "[Parallel(n_jobs=-1)]: Done   2 out of   5 | elapsed:    9.7s remaining:   14.6s\n"
          ]
        },
        {
          "name": "stdout",
          "output_type": "stream",
          "text": [
            "[CV] END ................ MSE: (test=-0.001) R2: (test=1.000) total time=  10.8s\n",
            "[CV] END ................ MSE: (test=-0.001) R2: (test=1.000) total time=   8.0s\n",
            "{'fit_time': array([10.43666482,  9.3571887 ,  8.61896467,  9.27541995,  7.66045928]), 'score_time': array([0.34932041, 0.38196182, 0.36142182, 0.41669011, 0.33804202]), 'test_MSE': array([-0.00087296, -0.00102133, -0.00088959, -0.00100626, -0.00096644]), 'test_R2': array([0.99967425, 0.99964892, 0.99969298, 0.99967261, 0.99967916])}\n",
            "<class 'dict'>\n"
          ]
        },
        {
          "name": "stderr",
          "output_type": "stream",
          "text": [
            "[Parallel(n_jobs=-1)]: Done   5 out of   5 | elapsed:   17.0s finished\n",
            "[Parallel(n_jobs=-1)]: Using backend LokyBackend with 4 concurrent workers.\n",
            "/home/gearrod/projects/thesis/materials-files/.env/lib/python3.11/site-packages/sklearn/base.py:1152: DataConversionWarning: A column-vector y was passed when a 1d array was expected. Please change the shape of y to (n_samples,), for example using ravel().\n",
            "  return fit_method(estimator, *args, **kwargs)\n",
            "/home/gearrod/projects/thesis/materials-files/.env/lib/python3.11/site-packages/sklearn/base.py:1152: DataConversionWarning: A column-vector y was passed when a 1d array was expected. Please change the shape of y to (n_samples,), for example using ravel().\n",
            "  return fit_method(estimator, *args, **kwargs)\n",
            "/home/gearrod/projects/thesis/materials-files/.env/lib/python3.11/site-packages/sklearn/base.py:1152: DataConversionWarning: A column-vector y was passed when a 1d array was expected. Please change the shape of y to (n_samples,), for example using ravel().\n",
            "  return fit_method(estimator, *args, **kwargs)\n",
            "/home/gearrod/projects/thesis/materials-files/.env/lib/python3.11/site-packages/sklearn/base.py:1152: DataConversionWarning: A column-vector y was passed when a 1d array was expected. Please change the shape of y to (n_samples,), for example using ravel().\n",
            "  return fit_method(estimator, *args, **kwargs)\n"
          ]
        },
        {
          "name": "stdout",
          "output_type": "stream",
          "text": [
            "[CV] END ................ MSE: (test=-0.001) R2: (test=1.000) total time=  23.2s\n"
          ]
        },
        {
          "name": "stderr",
          "output_type": "stream",
          "text": [
            "/home/gearrod/projects/thesis/materials-files/.env/lib/python3.11/site-packages/sklearn/base.py:1152: DataConversionWarning: A column-vector y was passed when a 1d array was expected. Please change the shape of y to (n_samples,), for example using ravel().\n",
            "  return fit_method(estimator, *args, **kwargs)\n"
          ]
        },
        {
          "name": "stdout",
          "output_type": "stream",
          "text": [
            "[CV] END ................ MSE: (test=-0.001) R2: (test=1.000) total time=  24.0s\n"
          ]
        },
        {
          "name": "stderr",
          "output_type": "stream",
          "text": [
            "[Parallel(n_jobs=-1)]: Done   2 out of   5 | elapsed:   24.0s remaining:   36.0s\n"
          ]
        },
        {
          "name": "stdout",
          "output_type": "stream",
          "text": [
            "[CV] END ................ MSE: (test=-0.001) R2: (test=1.000) total time=  24.4s\n",
            "[CV] END ................ MSE: (test=-0.001) R2: (test=1.000) total time=  24.6s\n",
            "[CV] END ................ MSE: (test=-0.001) R2: (test=1.000) total time=  20.4s\n",
            "{'fit_time': array([22.9216733 , 23.20419502, 22.03312421, 23.57952523, 19.56693006]), 'score_time': array([1.08922744, 1.15052104, 1.20579076, 1.02646804, 0.83707976]), 'test_MSE': array([-0.00084014, -0.00098301, -0.00085686, -0.00090763, -0.00095393]), 'test_R2': array([0.9996865 , 0.9996621 , 0.99970428, 0.9997047 , 0.99968331])}\n",
            "<class 'dict'>\n"
          ]
        },
        {
          "name": "stderr",
          "output_type": "stream",
          "text": [
            "[Parallel(n_jobs=-1)]: Done   5 out of   5 | elapsed:   43.7s finished\n",
            "[Parallel(n_jobs=-1)]: Using backend LokyBackend with 4 concurrent workers.\n",
            "/home/gearrod/projects/thesis/materials-files/.env/lib/python3.11/site-packages/sklearn/base.py:1152: DataConversionWarning: A column-vector y was passed when a 1d array was expected. Please change the shape of y to (n_samples,), for example using ravel().\n",
            "  return fit_method(estimator, *args, **kwargs)\n",
            "/home/gearrod/projects/thesis/materials-files/.env/lib/python3.11/site-packages/sklearn/base.py:1152: DataConversionWarning: A column-vector y was passed when a 1d array was expected. Please change the shape of y to (n_samples,), for example using ravel().\n",
            "  return fit_method(estimator, *args, **kwargs)\n",
            "/home/gearrod/projects/thesis/materials-files/.env/lib/python3.11/site-packages/sklearn/base.py:1152: DataConversionWarning: A column-vector y was passed when a 1d array was expected. Please change the shape of y to (n_samples,), for example using ravel().\n",
            "  return fit_method(estimator, *args, **kwargs)\n",
            "/home/gearrod/projects/thesis/materials-files/.env/lib/python3.11/site-packages/sklearn/base.py:1152: DataConversionWarning: A column-vector y was passed when a 1d array was expected. Please change the shape of y to (n_samples,), for example using ravel().\n",
            "  return fit_method(estimator, *args, **kwargs)\n"
          ]
        },
        {
          "name": "stdout",
          "output_type": "stream",
          "text": [
            "[CV] END ................ MSE: (test=-0.001) R2: (test=1.000) total time= 2.2min\n",
            "[CV] END ................ MSE: (test=-0.001) R2: (test=1.000) total time= 2.3min\n"
          ]
        },
        {
          "name": "stderr",
          "output_type": "stream",
          "text": [
            "[Parallel(n_jobs=-1)]: Done   2 out of   5 | elapsed:  2.3min remaining:  3.4min\n"
          ]
        },
        {
          "name": "stdout",
          "output_type": "stream",
          "text": [
            "[CV] END ................ MSE: (test=-0.001) R2: (test=1.000) total time= 2.3min\n"
          ]
        },
        {
          "name": "stderr",
          "output_type": "stream",
          "text": [
            "/home/gearrod/projects/thesis/materials-files/.env/lib/python3.11/site-packages/sklearn/base.py:1152: DataConversionWarning: A column-vector y was passed when a 1d array was expected. Please change the shape of y to (n_samples,), for example using ravel().\n",
            "  return fit_method(estimator, *args, **kwargs)\n"
          ]
        },
        {
          "name": "stdout",
          "output_type": "stream",
          "text": [
            "[CV] END ................ MSE: (test=-0.001) R2: (test=1.000) total time= 2.3min\n",
            "[CV] END ................ MSE: (test=-0.001) R2: (test=1.000) total time=  40.1s\n",
            "{'fit_time': array([58.08576751, 58.43873954, 57.67814112, 55.26363826, 38.41458225]), 'score_time': array([78.0287323 , 77.08680177, 77.47322679, 79.65345883,  1.70201802]), 'test_MSE': array([-0.00085108, -0.00100114, -0.00085214, -0.00098255, -0.0009366 ]), 'test_R2': array([0.99968242, 0.99965586, 0.99970591, 0.99968032, 0.99968906])}\n",
            "<class 'dict'>\n"
          ]
        },
        {
          "name": "stderr",
          "output_type": "stream",
          "text": [
            "[Parallel(n_jobs=-1)]: Done   5 out of   5 | elapsed:  2.9min finished\n",
            "[Parallel(n_jobs=-1)]: Using backend LokyBackend with 4 concurrent workers.\n"
          ]
        },
        {
          "name": "stdout",
          "output_type": "stream",
          "text": [
            "[CV] END ................ MSE: (test=-1.295) R2: (test=0.517) total time=   0.1s\n",
            "[CV] END ................ MSE: (test=-1.398) R2: (test=0.545) total time=   0.1s\n",
            "[CV] END ................ MSE: (test=-1.353) R2: (test=0.535) total time=   0.1s\n",
            "[CV] END ................ MSE: (test=-1.349) R2: (test=0.534) total time=   0.1s\n",
            "[CV] END ................ MSE: (test=-1.403) R2: (test=0.534) total time=   0.0s\n",
            "{'fit_time': array([0.11206293, 0.11786985, 0.11022758, 0.08733892, 0.04511642]), 'score_time': array([0.00762439, 0.00651431, 0.00657344, 0.01195335, 0.00404048]), 'test_MSE': array([-1.29549731, -1.3529149 , -1.34945629, -1.3984103 , -1.40277673]), 'test_R2': array([0.5165807 , 0.53494207, 0.5342739 , 0.54501934, 0.53429872])}\n",
            "<class 'dict'>\n"
          ]
        },
        {
          "name": "stderr",
          "output_type": "stream",
          "text": [
            "[Parallel(n_jobs=-1)]: Done   2 out of   5 | elapsed:    0.2s remaining:    0.3s\n",
            "[Parallel(n_jobs=-1)]: Done   5 out of   5 | elapsed:    0.2s finished\n",
            "[Parallel(n_jobs=-1)]: Using backend LokyBackend with 4 concurrent workers.\n"
          ]
        },
        {
          "name": "stdout",
          "output_type": "stream",
          "text": [
            "[CV] END ................ MSE: (test=-0.003) R2: (test=0.999) total time=   0.6s\n",
            "[CV] END ................ MSE: (test=-0.003) R2: (test=0.999) total time=   0.6s\n",
            "[CV] END ................ MSE: (test=-0.003) R2: (test=0.999) total time=   0.7s\n",
            "[CV] END ................ MSE: (test=-0.003) R2: (test=0.999) total time=   0.7s\n"
          ]
        },
        {
          "name": "stderr",
          "output_type": "stream",
          "text": [
            "[Parallel(n_jobs=-1)]: Done   2 out of   5 | elapsed:    0.7s remaining:    1.0s\n"
          ]
        },
        {
          "name": "stdout",
          "output_type": "stream",
          "text": [
            "[CV] END ................ MSE: (test=-0.003) R2: (test=0.999) total time=   0.5s\n",
            "{'fit_time': array([0.59716511, 0.67638397, 0.63616943, 0.69181156, 0.50544572]), 'score_time': array([0.01042128, 0.00906301, 0.00911498, 0.00811791, 0.00817633]), 'test_MSE': array([-0.003098  , -0.00299486, -0.00341058, -0.00333753, -0.0034105 ]), 'test_R2': array([0.99884397, 0.99897053, 0.99882294, 0.99891411, 0.99886776])}\n",
            "<class 'dict'>\n"
          ]
        },
        {
          "name": "stderr",
          "output_type": "stream",
          "text": [
            "[Parallel(n_jobs=-1)]: Done   5 out of   5 | elapsed:    1.1s finished\n",
            "[Parallel(n_jobs=-1)]: Using backend LokyBackend with 4 concurrent workers.\n",
            "/home/gearrod/projects/thesis/materials-files/.env/lib/python3.11/site-packages/sklearn/utils/validation.py:1183: DataConversionWarning: A column-vector y was passed when a 1d array was expected. Please change the shape of y to (n_samples, ), for example using ravel().\n",
            "  y = column_or_1d(y, warn=True)\n",
            "/home/gearrod/projects/thesis/materials-files/.env/lib/python3.11/site-packages/sklearn/utils/validation.py:1183: DataConversionWarning: A column-vector y was passed when a 1d array was expected. Please change the shape of y to (n_samples, ), for example using ravel().\n",
            "  y = column_or_1d(y, warn=True)\n",
            "/home/gearrod/projects/thesis/materials-files/.env/lib/python3.11/site-packages/sklearn/utils/validation.py:1183: DataConversionWarning: A column-vector y was passed when a 1d array was expected. Please change the shape of y to (n_samples, ), for example using ravel().\n",
            "  y = column_or_1d(y, warn=True)\n",
            "/home/gearrod/projects/thesis/materials-files/.env/lib/python3.11/site-packages/sklearn/utils/validation.py:1183: DataConversionWarning: A column-vector y was passed when a 1d array was expected. Please change the shape of y to (n_samples, ), for example using ravel().\n",
            "  y = column_or_1d(y, warn=True)\n"
          ]
        },
        {
          "name": "stdout",
          "output_type": "stream",
          "text": [
            "[CV] END ................ MSE: (test=-0.007) R2: (test=0.998) total time=   0.9s\n",
            "[CV] END ................ MSE: (test=-0.006) R2: (test=0.998) total time=   1.0s\n",
            "[CV] END ................ MSE: (test=-0.007) R2: (test=0.998) total time=   1.0s\n",
            "[CV] END ................ MSE: (test=-0.007) R2: (test=0.998) total time=   1.1s\n"
          ]
        },
        {
          "name": "stderr",
          "output_type": "stream",
          "text": [
            "/home/gearrod/projects/thesis/materials-files/.env/lib/python3.11/site-packages/sklearn/utils/validation.py:1183: DataConversionWarning: A column-vector y was passed when a 1d array was expected. Please change the shape of y to (n_samples, ), for example using ravel().\n",
            "  y = column_or_1d(y, warn=True)\n",
            "[Parallel(n_jobs=-1)]: Done   2 out of   5 | elapsed:    1.0s remaining:    1.5s\n"
          ]
        },
        {
          "name": "stdout",
          "output_type": "stream",
          "text": [
            "[CV] END ................ MSE: (test=-0.007) R2: (test=0.998) total time=   0.8s\n",
            "{'fit_time': array([0.87272024, 0.90468025, 0.94398618, 0.80109453, 0.65083861]), 'score_time': array([0.12777758, 0.12074924, 0.11861897, 0.12087369, 0.10445356]), 'test_MSE': array([-0.00638927, -0.00658216, -0.00664495, -0.00746986, -0.00698188]), 'test_R2': array([0.99761582, 0.99773741, 0.99770669, 0.99756964, 0.99768212])}\n",
            "<class 'dict'>\n"
          ]
        },
        {
          "name": "stderr",
          "output_type": "stream",
          "text": [
            "[Parallel(n_jobs=-1)]: Done   5 out of   5 | elapsed:    1.7s finished\n",
            "[Parallel(n_jobs=-1)]: Using backend LokyBackend with 4 concurrent workers.\n",
            "/home/gearrod/projects/thesis/materials-files/.env/lib/python3.11/site-packages/sklearn/utils/validation.py:1183: DataConversionWarning: A column-vector y was passed when a 1d array was expected. Please change the shape of y to (n_samples, ), for example using ravel().\n",
            "  y = column_or_1d(y, warn=True)\n",
            "/home/gearrod/projects/thesis/materials-files/.env/lib/python3.11/site-packages/sklearn/utils/validation.py:1183: DataConversionWarning: A column-vector y was passed when a 1d array was expected. Please change the shape of y to (n_samples, ), for example using ravel().\n",
            "  y = column_or_1d(y, warn=True)\n",
            "/home/gearrod/projects/thesis/materials-files/.env/lib/python3.11/site-packages/sklearn/utils/validation.py:1183: DataConversionWarning: A column-vector y was passed when a 1d array was expected. Please change the shape of y to (n_samples, ), for example using ravel().\n",
            "  y = column_or_1d(y, warn=True)\n",
            "/home/gearrod/projects/thesis/materials-files/.env/lib/python3.11/site-packages/sklearn/utils/validation.py:1183: DataConversionWarning: A column-vector y was passed when a 1d array was expected. Please change the shape of y to (n_samples, ), for example using ravel().\n",
            "  y = column_or_1d(y, warn=True)\n"
          ]
        },
        {
          "name": "stdout",
          "output_type": "stream",
          "text": [
            "[CV] END ................ MSE: (test=-0.004) R2: (test=0.999) total time=   0.8s\n",
            "[CV] END ................ MSE: (test=-0.004) R2: (test=0.999) total time=   0.8s\n",
            "[CV] END ................ MSE: (test=-0.004) R2: (test=0.999) total time=   0.9s\n",
            "[CV] END ................ MSE: (test=-0.006) R2: (test=0.998) total time=   0.9s\n"
          ]
        },
        {
          "name": "stderr",
          "output_type": "stream",
          "text": [
            "/home/gearrod/projects/thesis/materials-files/.env/lib/python3.11/site-packages/sklearn/utils/validation.py:1183: DataConversionWarning: A column-vector y was passed when a 1d array was expected. Please change the shape of y to (n_samples, ), for example using ravel().\n",
            "  y = column_or_1d(y, warn=True)\n",
            "[Parallel(n_jobs=-1)]: Done   2 out of   5 | elapsed:    0.8s remaining:    1.3s\n"
          ]
        },
        {
          "name": "stdout",
          "output_type": "stream",
          "text": [
            "[CV] END ................ MSE: (test=-0.004) R2: (test=0.999) total time=   0.6s\n",
            "{'fit_time': array([0.77086091, 0.78633666, 0.67371964, 0.71228647, 0.54671407]), 'score_time': array([0.09122062, 0.09930897, 0.0918808 , 0.09857583, 0.08011007]), 'test_MSE': array([-0.00381525, -0.00561166, -0.00406145, -0.00421106, -0.00430531]), 'test_R2': array([0.99857633, 0.99807102, 0.99859831, 0.99862991, 0.9985707 ])}\n",
            "<class 'dict'>\n"
          ]
        },
        {
          "name": "stderr",
          "output_type": "stream",
          "text": [
            "[Parallel(n_jobs=-1)]: Done   5 out of   5 | elapsed:    1.4s finished\n",
            "[Parallel(n_jobs=-1)]: Using backend LokyBackend with 4 concurrent workers.\n",
            "/home/gearrod/projects/thesis/materials-files/.env/lib/python3.11/site-packages/sklearn/utils/validation.py:1183: DataConversionWarning: A column-vector y was passed when a 1d array was expected. Please change the shape of y to (n_samples, ), for example using ravel().\n",
            "  y = column_or_1d(y, warn=True)\n",
            "/home/gearrod/projects/thesis/materials-files/.env/lib/python3.11/site-packages/sklearn/utils/validation.py:1183: DataConversionWarning: A column-vector y was passed when a 1d array was expected. Please change the shape of y to (n_samples, ), for example using ravel().\n",
            "  y = column_or_1d(y, warn=True)\n",
            "/home/gearrod/projects/thesis/materials-files/.env/lib/python3.11/site-packages/sklearn/utils/validation.py:1183: DataConversionWarning: A column-vector y was passed when a 1d array was expected. Please change the shape of y to (n_samples, ), for example using ravel().\n",
            "  y = column_or_1d(y, warn=True)\n",
            "/home/gearrod/projects/thesis/materials-files/.env/lib/python3.11/site-packages/sklearn/utils/validation.py:1183: DataConversionWarning: A column-vector y was passed when a 1d array was expected. Please change the shape of y to (n_samples, ), for example using ravel().\n",
            "  y = column_or_1d(y, warn=True)\n"
          ]
        },
        {
          "name": "stdout",
          "output_type": "stream",
          "text": [
            "[CV] END ................ MSE: (test=-0.014) R2: (test=0.995) total time=   1.0s\n",
            "[CV] END ................ MSE: (test=-0.014) R2: (test=0.995) total time=   1.1s\n",
            "[CV] END ................ MSE: (test=-0.013) R2: (test=0.995) total time=   1.1s\n",
            "[CV] END ................ MSE: (test=-0.015) R2: (test=0.995) total time=   1.1s\n"
          ]
        },
        {
          "name": "stderr",
          "output_type": "stream",
          "text": [
            "/home/gearrod/projects/thesis/materials-files/.env/lib/python3.11/site-packages/sklearn/utils/validation.py:1183: DataConversionWarning: A column-vector y was passed when a 1d array was expected. Please change the shape of y to (n_samples, ), for example using ravel().\n",
            "  y = column_or_1d(y, warn=True)\n",
            "[Parallel(n_jobs=-1)]: Done   2 out of   5 | elapsed:    1.1s remaining:    1.6s\n"
          ]
        },
        {
          "name": "stdout",
          "output_type": "stream",
          "text": [
            "[CV] END ................ MSE: (test=-0.014) R2: (test=0.995) total time=   0.9s\n",
            "{'fit_time': array([0.95077991, 0.91101027, 0.84503341, 0.95516706, 0.72861719]), 'score_time': array([0.15649581, 0.14287353, 0.13202167, 0.14224482, 0.12340903]), 'test_MSE': array([-0.0130736 , -0.01441369, -0.01381376, -0.01469356, -0.01436983]), 'test_R2': array([0.99512154, 0.99504536, 0.99523258, 0.99521937, 0.99522943])}\n",
            "<class 'dict'>\n"
          ]
        },
        {
          "name": "stderr",
          "output_type": "stream",
          "text": [
            "[Parallel(n_jobs=-1)]: Done   5 out of   5 | elapsed:    1.9s finished\n",
            "[Parallel(n_jobs=-1)]: Using backend LokyBackend with 4 concurrent workers.\n",
            "/home/gearrod/projects/thesis/materials-files/.env/lib/python3.11/site-packages/sklearn/base.py:1152: DataConversionWarning: A column-vector y was passed when a 1d array was expected. Please change the shape of y to (n_samples,), for example using ravel().\n",
            "  return fit_method(estimator, *args, **kwargs)\n",
            "/home/gearrod/projects/thesis/materials-files/.env/lib/python3.11/site-packages/sklearn/base.py:1152: DataConversionWarning: A column-vector y was passed when a 1d array was expected. Please change the shape of y to (n_samples,), for example using ravel().\n",
            "  return fit_method(estimator, *args, **kwargs)\n",
            "/home/gearrod/projects/thesis/materials-files/.env/lib/python3.11/site-packages/sklearn/base.py:1152: DataConversionWarning: A column-vector y was passed when a 1d array was expected. Please change the shape of y to (n_samples,), for example using ravel().\n",
            "  return fit_method(estimator, *args, **kwargs)\n",
            "/home/gearrod/projects/thesis/materials-files/.env/lib/python3.11/site-packages/sklearn/base.py:1152: DataConversionWarning: A column-vector y was passed when a 1d array was expected. Please change the shape of y to (n_samples,), for example using ravel().\n",
            "  return fit_method(estimator, *args, **kwargs)\n"
          ]
        },
        {
          "name": "stdout",
          "output_type": "stream",
          "text": [
            "[CV] END ................ MSE: (test=-0.001) R2: (test=1.000) total time=  37.6s\n"
          ]
        },
        {
          "name": "stderr",
          "output_type": "stream",
          "text": [
            "/home/gearrod/projects/thesis/materials-files/.env/lib/python3.11/site-packages/sklearn/base.py:1152: DataConversionWarning: A column-vector y was passed when a 1d array was expected. Please change the shape of y to (n_samples,), for example using ravel().\n",
            "  return fit_method(estimator, *args, **kwargs)\n"
          ]
        },
        {
          "name": "stdout",
          "output_type": "stream",
          "text": [
            "[CV] END ................ MSE: (test=-0.001) R2: (test=1.000) total time=  39.3s\n"
          ]
        },
        {
          "name": "stderr",
          "output_type": "stream",
          "text": [
            "[Parallel(n_jobs=-1)]: Done   2 out of   5 | elapsed:   39.3s remaining:   59.0s\n"
          ]
        },
        {
          "name": "stdout",
          "output_type": "stream",
          "text": [
            "[CV] END ................ MSE: (test=-0.001) R2: (test=1.000) total time=  40.4s\n",
            "[CV] END ................ MSE: (test=-0.001) R2: (test=1.000) total time=  41.9s\n",
            "[CV] END ................ MSE: (test=-0.001) R2: (test=1.000) total time=  33.9s\n",
            "{'fit_time': array([40.03003001, 41.5345273 , 37.23018241, 38.89985394, 33.55289841]), 'score_time': array([0.38072658, 0.3723774 , 0.40233135, 0.39807034, 0.36375451]), 'test_MSE': array([-0.00113536, -0.00119876, -0.00133481, -0.0012401 , -0.00116536]), 'test_R2': array([0.99957634, 0.99958793, 0.99953933, 0.99959653, 0.99961312])}\n",
            "<class 'dict'>\n"
          ]
        },
        {
          "name": "stderr",
          "output_type": "stream",
          "text": [
            "[Parallel(n_jobs=-1)]: Done   5 out of   5 | elapsed:  1.2min finished\n",
            "[Parallel(n_jobs=-1)]: Using backend LokyBackend with 4 concurrent workers.\n",
            "/home/gearrod/projects/thesis/materials-files/.env/lib/python3.11/site-packages/sklearn/base.py:1152: DataConversionWarning: A column-vector y was passed when a 1d array was expected. Please change the shape of y to (n_samples,), for example using ravel().\n",
            "  return fit_method(estimator, *args, **kwargs)\n",
            "/home/gearrod/projects/thesis/materials-files/.env/lib/python3.11/site-packages/sklearn/base.py:1152: DataConversionWarning: A column-vector y was passed when a 1d array was expected. Please change the shape of y to (n_samples,), for example using ravel().\n",
            "  return fit_method(estimator, *args, **kwargs)\n",
            "/home/gearrod/projects/thesis/materials-files/.env/lib/python3.11/site-packages/sklearn/base.py:1152: DataConversionWarning: A column-vector y was passed when a 1d array was expected. Please change the shape of y to (n_samples,), for example using ravel().\n",
            "  return fit_method(estimator, *args, **kwargs)\n",
            "/home/gearrod/projects/thesis/materials-files/.env/lib/python3.11/site-packages/sklearn/base.py:1152: DataConversionWarning: A column-vector y was passed when a 1d array was expected. Please change the shape of y to (n_samples,), for example using ravel().\n",
            "  return fit_method(estimator, *args, **kwargs)\n"
          ]
        },
        {
          "name": "stdout",
          "output_type": "stream",
          "text": [
            "[CV] END ................ MSE: (test=-0.001) R2: (test=1.000) total time= 1.7min\n"
          ]
        },
        {
          "name": "stderr",
          "output_type": "stream",
          "text": [
            "/home/gearrod/projects/thesis/materials-files/.env/lib/python3.11/site-packages/sklearn/base.py:1152: DataConversionWarning: A column-vector y was passed when a 1d array was expected. Please change the shape of y to (n_samples,), for example using ravel().\n",
            "  return fit_method(estimator, *args, **kwargs)\n"
          ]
        },
        {
          "name": "stdout",
          "output_type": "stream",
          "text": [
            "[CV] END ................ MSE: (test=-0.001) R2: (test=1.000) total time= 1.7min\n",
            "[CV] END ................ MSE: (test=-0.001) R2: (test=1.000) total time= 1.7min\n"
          ]
        },
        {
          "name": "stderr",
          "output_type": "stream",
          "text": [
            "[Parallel(n_jobs=-1)]: Done   2 out of   5 | elapsed:  1.7min remaining:  2.6min\n"
          ]
        },
        {
          "name": "stdout",
          "output_type": "stream",
          "text": [
            "[CV] END ................ MSE: (test=-0.001) R2: (test=1.000) total time= 1.8min\n",
            "[CV] END ................ MSE: (test=-0.001) R2: (test=1.000) total time= 1.4min\n",
            "{'fit_time': array([104.11160469,  99.73725033, 102.68443155, 102.77441525,\n",
            "        82.08919573]), 'score_time': array([0.91809988, 1.10142565, 1.06382251, 1.13408065, 0.86688042]), 'test_MSE': array([-0.00110172, -0.00124096, -0.001254  , -0.00119034, -0.00112035]), 'test_R2': array([0.99958889, 0.99957343, 0.99956722, 0.99961272, 0.99962806])}\n",
            "<class 'dict'>\n"
          ]
        },
        {
          "name": "stderr",
          "output_type": "stream",
          "text": [
            "[Parallel(n_jobs=-1)]: Done   5 out of   5 | elapsed:  3.1min finished\n",
            "[Parallel(n_jobs=-1)]: Using backend LokyBackend with 4 concurrent workers.\n",
            "/home/gearrod/projects/thesis/materials-files/.env/lib/python3.11/site-packages/sklearn/base.py:1152: DataConversionWarning: A column-vector y was passed when a 1d array was expected. Please change the shape of y to (n_samples,), for example using ravel().\n",
            "  return fit_method(estimator, *args, **kwargs)\n",
            "/home/gearrod/projects/thesis/materials-files/.env/lib/python3.11/site-packages/sklearn/base.py:1152: DataConversionWarning: A column-vector y was passed when a 1d array was expected. Please change the shape of y to (n_samples,), for example using ravel().\n",
            "  return fit_method(estimator, *args, **kwargs)\n",
            "/home/gearrod/projects/thesis/materials-files/.env/lib/python3.11/site-packages/sklearn/base.py:1152: DataConversionWarning: A column-vector y was passed when a 1d array was expected. Please change the shape of y to (n_samples,), for example using ravel().\n",
            "  return fit_method(estimator, *args, **kwargs)\n",
            "/home/gearrod/projects/thesis/materials-files/.env/lib/python3.11/site-packages/sklearn/base.py:1152: DataConversionWarning: A column-vector y was passed when a 1d array was expected. Please change the shape of y to (n_samples,), for example using ravel().\n",
            "  return fit_method(estimator, *args, **kwargs)\n"
          ]
        },
        {
          "name": "stdout",
          "output_type": "stream",
          "text": [
            "[CV] END ................ MSE: (test=-0.001) R2: (test=1.000) total time= 4.7min\n",
            "[CV] END ................ MSE: (test=-0.001) R2: (test=1.000) total time= 4.7min\n"
          ]
        },
        {
          "name": "stderr",
          "output_type": "stream",
          "text": [
            "[Parallel(n_jobs=-1)]: Done   2 out of   5 | elapsed:  4.7min remaining:  7.0min\n",
            "/home/gearrod/projects/thesis/materials-files/.env/lib/python3.11/site-packages/sklearn/base.py:1152: DataConversionWarning: A column-vector y was passed when a 1d array was expected. Please change the shape of y to (n_samples,), for example using ravel().\n",
            "  return fit_method(estimator, *args, **kwargs)\n"
          ]
        },
        {
          "name": "stdout",
          "output_type": "stream",
          "text": [
            "[CV] END ................ MSE: (test=-0.001) R2: (test=1.000) total time= 4.7min\n",
            "[CV] END ................ MSE: (test=-0.001) R2: (test=1.000) total time= 4.7min\n",
            "[CV] END ................ MSE: (test=-0.001) R2: (test=1.000) total time= 2.8min\n",
            "{'fit_time': array([212.30978298, 221.55256534, 205.19279933, 220.04874587,\n",
            "       168.69879556]), 'score_time': array([68.12890601, 60.82541156, 74.32091951, 61.7212913 ,  1.79477453]), 'test_MSE': array([-0.00107538, -0.00125309, -0.00126488, -0.00119542, -0.00112877]), 'test_R2': array([0.99959872, 0.99956926, 0.99956346, 0.99961106, 0.99962527])}\n",
            "<class 'dict'>\n"
          ]
        },
        {
          "name": "stderr",
          "output_type": "stream",
          "text": [
            "[Parallel(n_jobs=-1)]: Done   5 out of   5 | elapsed:  7.5min finished\n",
            "[Parallel(n_jobs=-1)]: Using backend LokyBackend with 4 concurrent workers.\n"
          ]
        },
        {
          "name": "stdout",
          "output_type": "stream",
          "text": [
            "[CV] END ................ MSE: (test=-2.306) R2: (test=0.204) total time=   0.0s\n",
            "[CV] END ................ MSE: (test=-2.161) R2: (test=0.194) total time=   0.1s\n",
            "[CV] END ................ MSE: (test=-2.426) R2: (test=0.211) total time=   0.0s\n",
            "[CV] END ................ MSE: (test=-2.393) R2: (test=0.206) total time=   0.0s\n",
            "[CV] END ................ MSE: (test=-2.347) R2: (test=0.193) total time=   0.1s\n",
            "{'fit_time': array([0.08796811, 0.10910368, 0.04514217, 0.03596807, 0.02993941]), 'score_time': array([0.00570536, 0.00451732, 0.00469446, 0.00430417, 0.00350714]), 'test_MSE': array([-2.16119769, -2.34712708, -2.30607632, -2.42614744, -2.39267647]), 'test_R2': array([0.19354161, 0.19318646, 0.20412397, 0.21063927, 0.20566655])}\n",
            "<class 'dict'>\n"
          ]
        },
        {
          "name": "stderr",
          "output_type": "stream",
          "text": [
            "[Parallel(n_jobs=-1)]: Done   2 out of   5 | elapsed:    0.2s remaining:    0.3s\n",
            "[Parallel(n_jobs=-1)]: Done   5 out of   5 | elapsed:    0.2s finished\n",
            "[Parallel(n_jobs=-1)]: Using backend LokyBackend with 4 concurrent workers.\n"
          ]
        },
        {
          "name": "stdout",
          "output_type": "stream",
          "text": [
            "[CV] END ................ MSE: (test=-0.004) R2: (test=0.999) total time=   0.3s\n",
            "[CV] END ................ MSE: (test=-0.004) R2: (test=0.999) total time=   0.4s\n",
            "[CV] END ................ MSE: (test=-0.004) R2: (test=0.999) total time=   0.4s\n"
          ]
        },
        {
          "name": "stderr",
          "output_type": "stream",
          "text": [
            "[Parallel(n_jobs=-1)]: Done   2 out of   5 | elapsed:    0.4s remaining:    0.6s\n"
          ]
        },
        {
          "name": "stdout",
          "output_type": "stream",
          "text": [
            "[CV] END ................ MSE: (test=-0.004) R2: (test=0.999) total time=   0.3s\n",
            "[CV] END ................ MSE: (test=-0.004) R2: (test=0.999) total time=   0.3s\n",
            "{'fit_time': array([0.32982659, 0.38092232, 0.38058305, 0.28204608, 0.31940198]), 'score_time': array([0.00864768, 0.01322198, 0.02788138, 0.00749493, 0.00722814]), 'test_MSE': array([-0.00366898, -0.00413044, -0.00385777, -0.00415039, -0.00446373]), 'test_R2': array([0.99863091, 0.99858018, 0.9986686 , 0.99864965, 0.99851811])}\n",
            "<class 'dict'>\n"
          ]
        },
        {
          "name": "stderr",
          "output_type": "stream",
          "text": [
            "[Parallel(n_jobs=-1)]: Done   5 out of   5 | elapsed:    1.1s finished\n",
            "[Parallel(n_jobs=-1)]: Using backend LokyBackend with 4 concurrent workers.\n",
            "/home/gearrod/projects/thesis/materials-files/.env/lib/python3.11/site-packages/sklearn/utils/validation.py:1183: DataConversionWarning: A column-vector y was passed when a 1d array was expected. Please change the shape of y to (n_samples, ), for example using ravel().\n",
            "  y = column_or_1d(y, warn=True)\n",
            "/home/gearrod/projects/thesis/materials-files/.env/lib/python3.11/site-packages/sklearn/utils/validation.py:1183: DataConversionWarning: A column-vector y was passed when a 1d array was expected. Please change the shape of y to (n_samples, ), for example using ravel().\n",
            "  y = column_or_1d(y, warn=True)\n",
            "/home/gearrod/projects/thesis/materials-files/.env/lib/python3.11/site-packages/sklearn/utils/validation.py:1183: DataConversionWarning: A column-vector y was passed when a 1d array was expected. Please change the shape of y to (n_samples, ), for example using ravel().\n",
            "  y = column_or_1d(y, warn=True)\n",
            "/home/gearrod/projects/thesis/materials-files/.env/lib/python3.11/site-packages/sklearn/utils/validation.py:1183: DataConversionWarning: A column-vector y was passed when a 1d array was expected. Please change the shape of y to (n_samples, ), for example using ravel().\n",
            "  y = column_or_1d(y, warn=True)\n"
          ]
        },
        {
          "name": "stdout",
          "output_type": "stream",
          "text": [
            "[CV] END ................ MSE: (test=-0.008) R2: (test=0.997) total time=   0.8s\n",
            "[CV] END ................ MSE: (test=-0.007) R2: (test=0.998) total time=   0.8s\n",
            "[CV] END ................ MSE: (test=-0.008) R2: (test=0.997) total time=   0.8s\n",
            "[CV] END ................ MSE: (test=-0.008) R2: (test=0.997) total time=   0.8s\n"
          ]
        },
        {
          "name": "stderr",
          "output_type": "stream",
          "text": [
            "/home/gearrod/projects/thesis/materials-files/.env/lib/python3.11/site-packages/sklearn/utils/validation.py:1183: DataConversionWarning: A column-vector y was passed when a 1d array was expected. Please change the shape of y to (n_samples, ), for example using ravel().\n",
            "  y = column_or_1d(y, warn=True)\n",
            "[Parallel(n_jobs=-1)]: Done   2 out of   5 | elapsed:    0.8s remaining:    1.3s\n"
          ]
        },
        {
          "name": "stdout",
          "output_type": "stream",
          "text": [
            "[CV] END ................ MSE: (test=-0.008) R2: (test=0.997) total time=   0.6s\n",
            "{'fit_time': array([0.72537208, 0.73517704, 0.73881698, 0.70728207, 0.50413632]), 'score_time': array([0.09897494, 0.10754442, 0.1048758 , 0.0972507 , 0.08470559]), 'test_MSE': array([-0.00786688, -0.00779684, -0.00751013, -0.0072995 , -0.00773379]), 'test_R2': array([0.99706445, 0.99731987, 0.99740809, 0.99762507, 0.9974325 ])}\n",
            "<class 'dict'>\n"
          ]
        },
        {
          "name": "stderr",
          "output_type": "stream",
          "text": [
            "[Parallel(n_jobs=-1)]: Done   5 out of   5 | elapsed:    1.4s finished\n",
            "[Parallel(n_jobs=-1)]: Using backend LokyBackend with 4 concurrent workers.\n",
            "/home/gearrod/projects/thesis/materials-files/.env/lib/python3.11/site-packages/sklearn/utils/validation.py:1183: DataConversionWarning: A column-vector y was passed when a 1d array was expected. Please change the shape of y to (n_samples, ), for example using ravel().\n",
            "  y = column_or_1d(y, warn=True)\n",
            "/home/gearrod/projects/thesis/materials-files/.env/lib/python3.11/site-packages/sklearn/utils/validation.py:1183: DataConversionWarning: A column-vector y was passed when a 1d array was expected. Please change the shape of y to (n_samples, ), for example using ravel().\n",
            "  y = column_or_1d(y, warn=True)\n",
            "/home/gearrod/projects/thesis/materials-files/.env/lib/python3.11/site-packages/sklearn/utils/validation.py:1183: DataConversionWarning: A column-vector y was passed when a 1d array was expected. Please change the shape of y to (n_samples, ), for example using ravel().\n",
            "  y = column_or_1d(y, warn=True)\n",
            "/home/gearrod/projects/thesis/materials-files/.env/lib/python3.11/site-packages/sklearn/utils/validation.py:1183: DataConversionWarning: A column-vector y was passed when a 1d array was expected. Please change the shape of y to (n_samples, ), for example using ravel().\n",
            "  y = column_or_1d(y, warn=True)\n"
          ]
        },
        {
          "name": "stdout",
          "output_type": "stream",
          "text": [
            "[CV] END ................ MSE: (test=-0.005) R2: (test=0.998) total time=   0.6s\n",
            "[CV] END ................ MSE: (test=-0.005) R2: (test=0.998) total time=   0.7s\n",
            "[CV] END ................ MSE: (test=-0.005) R2: (test=0.998) total time=   0.7s\n",
            "[CV] END ................ MSE: (test=-0.005) R2: (test=0.998) total time=   0.8s\n"
          ]
        },
        {
          "name": "stderr",
          "output_type": "stream",
          "text": [
            "/home/gearrod/projects/thesis/materials-files/.env/lib/python3.11/site-packages/sklearn/utils/validation.py:1183: DataConversionWarning: A column-vector y was passed when a 1d array was expected. Please change the shape of y to (n_samples, ), for example using ravel().\n",
            "  y = column_or_1d(y, warn=True)\n",
            "[Parallel(n_jobs=-1)]: Done   2 out of   5 | elapsed:    0.7s remaining:    1.1s\n"
          ]
        },
        {
          "name": "stdout",
          "output_type": "stream",
          "text": [
            "[CV] END ................ MSE: (test=-0.005) R2: (test=0.998) total time=   0.5s\n",
            "{'fit_time': array([0.58385706, 0.61417627, 0.67058992, 0.54388523, 0.43700719]), 'score_time': array([0.11889172, 0.08405757, 0.08135247, 0.07974863, 0.06815505]), 'test_MSE': array([-0.00498914, -0.00505594, -0.00513572, -0.00510185, -0.00530603]), 'test_R2': array([0.99813829, 0.99826205, 0.99822755, 0.99834008, 0.99823848])}\n",
            "<class 'dict'>\n"
          ]
        },
        {
          "name": "stderr",
          "output_type": "stream",
          "text": [
            "[Parallel(n_jobs=-1)]: Done   5 out of   5 | elapsed:    1.2s finished\n",
            "[Parallel(n_jobs=-1)]: Using backend LokyBackend with 4 concurrent workers.\n",
            "/home/gearrod/projects/thesis/materials-files/.env/lib/python3.11/site-packages/sklearn/utils/validation.py:1183: DataConversionWarning: A column-vector y was passed when a 1d array was expected. Please change the shape of y to (n_samples, ), for example using ravel().\n",
            "  y = column_or_1d(y, warn=True)\n",
            "/home/gearrod/projects/thesis/materials-files/.env/lib/python3.11/site-packages/sklearn/utils/validation.py:1183: DataConversionWarning: A column-vector y was passed when a 1d array was expected. Please change the shape of y to (n_samples, ), for example using ravel().\n",
            "  y = column_or_1d(y, warn=True)\n",
            "/home/gearrod/projects/thesis/materials-files/.env/lib/python3.11/site-packages/sklearn/utils/validation.py:1183: DataConversionWarning: A column-vector y was passed when a 1d array was expected. Please change the shape of y to (n_samples, ), for example using ravel().\n",
            "  y = column_or_1d(y, warn=True)\n",
            "/home/gearrod/projects/thesis/materials-files/.env/lib/python3.11/site-packages/sklearn/utils/validation.py:1183: DataConversionWarning: A column-vector y was passed when a 1d array was expected. Please change the shape of y to (n_samples, ), for example using ravel().\n",
            "  y = column_or_1d(y, warn=True)\n"
          ]
        },
        {
          "name": "stdout",
          "output_type": "stream",
          "text": [
            "[CV] END ................ MSE: (test=-0.018) R2: (test=0.993) total time=   0.8s\n",
            "[CV] END ................ MSE: (test=-0.018) R2: (test=0.994) total time=   0.9s\n",
            "[CV] END ................ MSE: (test=-0.018) R2: (test=0.994) total time=   0.9s\n",
            "[CV] END ................ MSE: (test=-0.017) R2: (test=0.994) total time=   0.9s\n"
          ]
        },
        {
          "name": "stderr",
          "output_type": "stream",
          "text": [
            "/home/gearrod/projects/thesis/materials-files/.env/lib/python3.11/site-packages/sklearn/utils/validation.py:1183: DataConversionWarning: A column-vector y was passed when a 1d array was expected. Please change the shape of y to (n_samples, ), for example using ravel().\n",
            "  y = column_or_1d(y, warn=True)\n",
            "[Parallel(n_jobs=-1)]: Done   2 out of   5 | elapsed:    0.9s remaining:    1.4s\n"
          ]
        },
        {
          "name": "stdout",
          "output_type": "stream",
          "text": [
            "[CV] END ................ MSE: (test=-0.017) R2: (test=0.994) total time=   0.7s\n",
            "{'fit_time': array([0.71678257, 0.79657888, 0.80273008, 0.79575682, 0.58501673]), 'score_time': array([0.11353707, 0.11084795, 0.12523866, 0.12347364, 0.10183764]), 'test_MSE': array([-0.0176487 , -0.01778572, -0.01699336, -0.01765008, -0.01669108]), 'test_R2': array([0.99341433, 0.99388624, 0.99413523, 0.99425745, 0.99445881])}\n",
            "<class 'dict'>\n"
          ]
        },
        {
          "name": "stderr",
          "output_type": "stream",
          "text": [
            "[Parallel(n_jobs=-1)]: Done   5 out of   5 | elapsed:    1.5s finished\n",
            "[Parallel(n_jobs=-1)]: Using backend LokyBackend with 4 concurrent workers.\n",
            "/home/gearrod/projects/thesis/materials-files/.env/lib/python3.11/site-packages/sklearn/base.py:1152: DataConversionWarning: A column-vector y was passed when a 1d array was expected. Please change the shape of y to (n_samples,), for example using ravel().\n",
            "  return fit_method(estimator, *args, **kwargs)\n",
            "/home/gearrod/projects/thesis/materials-files/.env/lib/python3.11/site-packages/sklearn/base.py:1152: DataConversionWarning: A column-vector y was passed when a 1d array was expected. Please change the shape of y to (n_samples,), for example using ravel().\n",
            "  return fit_method(estimator, *args, **kwargs)\n",
            "/home/gearrod/projects/thesis/materials-files/.env/lib/python3.11/site-packages/sklearn/base.py:1152: DataConversionWarning: A column-vector y was passed when a 1d array was expected. Please change the shape of y to (n_samples,), for example using ravel().\n",
            "  return fit_method(estimator, *args, **kwargs)\n",
            "/home/gearrod/projects/thesis/materials-files/.env/lib/python3.11/site-packages/sklearn/base.py:1152: DataConversionWarning: A column-vector y was passed when a 1d array was expected. Please change the shape of y to (n_samples,), for example using ravel().\n",
            "  return fit_method(estimator, *args, **kwargs)\n"
          ]
        },
        {
          "name": "stdout",
          "output_type": "stream",
          "text": [
            "[CV] END ................ MSE: (test=-0.001) R2: (test=1.000) total time=  22.3s\n"
          ]
        },
        {
          "name": "stderr",
          "output_type": "stream",
          "text": [
            "/home/gearrod/projects/thesis/materials-files/.env/lib/python3.11/site-packages/sklearn/base.py:1152: DataConversionWarning: A column-vector y was passed when a 1d array was expected. Please change the shape of y to (n_samples,), for example using ravel().\n",
            "  return fit_method(estimator, *args, **kwargs)\n"
          ]
        },
        {
          "name": "stdout",
          "output_type": "stream",
          "text": [
            "[CV] END ................ MSE: (test=-0.001) R2: (test=1.000) total time=  22.6s\n",
            "[CV] END ................ MSE: (test=-0.001) R2: (test=1.000) total time=  22.7s\n"
          ]
        },
        {
          "name": "stderr",
          "output_type": "stream",
          "text": [
            "[Parallel(n_jobs=-1)]: Done   2 out of   5 | elapsed:   22.6s remaining:   33.9s\n"
          ]
        },
        {
          "name": "stdout",
          "output_type": "stream",
          "text": [
            "[CV] END ................ MSE: (test=-0.001) R2: (test=1.000) total time=  22.9s\n",
            "[CV] END ................ MSE: (test=-0.001) R2: (test=1.000) total time=  19.2s\n",
            "{'fit_time': array([22.23066807, 22.42853975, 22.09293079, 21.83247042, 18.86191773]), 'score_time': array([0.46989226, 0.4346776 , 0.47681308, 0.43933725, 0.35842752]), 'test_MSE': array([-0.0007331 , -0.00102697, -0.00086535, -0.00087038, -0.00080255]), 'test_R2': array([0.99972644, 0.99964698, 0.99970135, 0.99971682, 0.99973356])}\n",
            "<class 'dict'>\n"
          ]
        },
        {
          "name": "stderr",
          "output_type": "stream",
          "text": [
            "[Parallel(n_jobs=-1)]: Done   5 out of   5 | elapsed:   41.6s finished\n",
            "[Parallel(n_jobs=-1)]: Using backend LokyBackend with 4 concurrent workers.\n",
            "/home/gearrod/projects/thesis/materials-files/.env/lib/python3.11/site-packages/sklearn/base.py:1152: DataConversionWarning: A column-vector y was passed when a 1d array was expected. Please change the shape of y to (n_samples,), for example using ravel().\n",
            "  return fit_method(estimator, *args, **kwargs)\n",
            "/home/gearrod/projects/thesis/materials-files/.env/lib/python3.11/site-packages/sklearn/base.py:1152: DataConversionWarning: A column-vector y was passed when a 1d array was expected. Please change the shape of y to (n_samples,), for example using ravel().\n",
            "  return fit_method(estimator, *args, **kwargs)\n",
            "/home/gearrod/projects/thesis/materials-files/.env/lib/python3.11/site-packages/sklearn/base.py:1152: DataConversionWarning: A column-vector y was passed when a 1d array was expected. Please change the shape of y to (n_samples,), for example using ravel().\n",
            "  return fit_method(estimator, *args, **kwargs)\n",
            "/home/gearrod/projects/thesis/materials-files/.env/lib/python3.11/site-packages/sklearn/base.py:1152: DataConversionWarning: A column-vector y was passed when a 1d array was expected. Please change the shape of y to (n_samples,), for example using ravel().\n",
            "  return fit_method(estimator, *args, **kwargs)\n"
          ]
        },
        {
          "name": "stdout",
          "output_type": "stream",
          "text": [
            "[CV] END ................ MSE: (test=-0.001) R2: (test=1.000) total time=  56.8s\n"
          ]
        },
        {
          "name": "stderr",
          "output_type": "stream",
          "text": [
            "/home/gearrod/projects/thesis/materials-files/.env/lib/python3.11/site-packages/sklearn/base.py:1152: DataConversionWarning: A column-vector y was passed when a 1d array was expected. Please change the shape of y to (n_samples,), for example using ravel().\n",
            "  return fit_method(estimator, *args, **kwargs)\n"
          ]
        },
        {
          "name": "stdout",
          "output_type": "stream",
          "text": [
            "[CV] END ................ MSE: (test=-0.001) R2: (test=1.000) total time=  58.5s\n"
          ]
        },
        {
          "name": "stderr",
          "output_type": "stream",
          "text": [
            "[Parallel(n_jobs=-1)]: Done   2 out of   5 | elapsed:   58.5s remaining:  1.5min\n"
          ]
        },
        {
          "name": "stdout",
          "output_type": "stream",
          "text": [
            "[CV] END ................ MSE: (test=-0.001) R2: (test=1.000) total time=  59.1s\n",
            "[CV] END ................ MSE: (test=-0.001) R2: (test=1.000) total time=  59.2s\n",
            "[CV] END ................ MSE: (test=-0.001) R2: (test=1.000) total time=  47.2s\n",
            "{'fit_time': array([58.01983762, 55.55491924, 57.21578264, 58.01114678, 46.28066015]), 'score_time': array([1.1703043 , 1.21063137, 1.25157976, 1.08202863, 0.87288952]), 'test_MSE': array([-0.00071525, -0.00102751, -0.00082143, -0.00087885, -0.00077557]), 'test_R2': array([0.9997331 , 0.9996468 , 0.99971651, 0.99971406, 0.99974252])}\n",
            "<class 'dict'>\n"
          ]
        },
        {
          "name": "stderr",
          "output_type": "stream",
          "text": [
            "[Parallel(n_jobs=-1)]: Done   5 out of   5 | elapsed:  1.7min finished\n",
            "[Parallel(n_jobs=-1)]: Using backend LokyBackend with 4 concurrent workers.\n",
            "/home/gearrod/projects/thesis/materials-files/.env/lib/python3.11/site-packages/sklearn/base.py:1152: DataConversionWarning: A column-vector y was passed when a 1d array was expected. Please change the shape of y to (n_samples,), for example using ravel().\n",
            "  return fit_method(estimator, *args, **kwargs)\n",
            "/home/gearrod/projects/thesis/materials-files/.env/lib/python3.11/site-packages/sklearn/base.py:1152: DataConversionWarning: A column-vector y was passed when a 1d array was expected. Please change the shape of y to (n_samples,), for example using ravel().\n",
            "  return fit_method(estimator, *args, **kwargs)\n",
            "/home/gearrod/projects/thesis/materials-files/.env/lib/python3.11/site-packages/sklearn/base.py:1152: DataConversionWarning: A column-vector y was passed when a 1d array was expected. Please change the shape of y to (n_samples,), for example using ravel().\n",
            "  return fit_method(estimator, *args, **kwargs)\n",
            "/home/gearrod/projects/thesis/materials-files/.env/lib/python3.11/site-packages/sklearn/base.py:1152: DataConversionWarning: A column-vector y was passed when a 1d array was expected. Please change the shape of y to (n_samples,), for example using ravel().\n",
            "  return fit_method(estimator, *args, **kwargs)\n"
          ]
        },
        {
          "name": "stdout",
          "output_type": "stream",
          "text": [
            "[CV] END ................ MSE: (test=-0.001) R2: (test=1.000) total time= 3.2min\n"
          ]
        },
        {
          "name": "stderr",
          "output_type": "stream",
          "text": [
            "/home/gearrod/projects/thesis/materials-files/.env/lib/python3.11/site-packages/sklearn/base.py:1152: DataConversionWarning: A column-vector y was passed when a 1d array was expected. Please change the shape of y to (n_samples,), for example using ravel().\n",
            "  return fit_method(estimator, *args, **kwargs)\n"
          ]
        },
        {
          "name": "stdout",
          "output_type": "stream",
          "text": [
            "[CV] END ................ MSE: (test=-0.001) R2: (test=1.000) total time= 3.3min\n"
          ]
        },
        {
          "name": "stderr",
          "output_type": "stream",
          "text": [
            "[Parallel(n_jobs=-1)]: Done   2 out of   5 | elapsed:  3.3min remaining:  4.9min\n"
          ]
        },
        {
          "name": "stdout",
          "output_type": "stream",
          "text": [
            "[CV] END ................ MSE: (test=-0.001) R2: (test=1.000) total time= 3.3min\n",
            "[CV] END ................ MSE: (test=-0.001) R2: (test=1.000) total time= 3.3min\n",
            "[CV] END ................ MSE: (test=-0.001) R2: (test=1.000) total time= 1.6min\n",
            "{'fit_time': array([118.66188359, 124.71021605, 130.38797402, 127.42163873,\n",
            "        91.34610724]), 'score_time': array([75.7078619 , 72.06834078, 66.41321635, 68.38726616,  1.79310703]), 'test_MSE': array([-0.00072054, -0.00105263, -0.00081323, -0.00090262, -0.00078098]), 'test_R2': array([0.99973113, 0.99963816, 0.99971934, 0.99970633, 0.99974073])}\n",
            "<class 'dict'>\n"
          ]
        },
        {
          "name": "stderr",
          "output_type": "stream",
          "text": [
            "[Parallel(n_jobs=-1)]: Done   5 out of   5 | elapsed:  4.8min finished\n"
          ]
        }
      ],
      "source": [
        "import os\n",
        "from datetime import datetime\n",
        "import json\n",
        "\n",
        "DIRECT_RESULTS_FOLDER = f\"./direct-results/{datetime.now().strftime('%m%d_%H-%M-%S')}\"\n",
        "\n",
        "os.makedirs(DIRECT_RESULTS_FOLDER, exist_ok=True)\n",
        "\n",
        "X = data[[\"angle\",\"p_matrix\",\"p_fiber\",\"ratio\"]]\n",
        "y = data[[\"p12\"]]\n",
        "\n",
        "direct_results={}\n",
        "direct_pipelines={}\n",
        "\n",
        "for iteration in TUNING_ITERATIONS:\n",
        "    pipeline_name=iteration.pipeline_factory.config.preprocessing_name+\"-\"+iteration.pipeline_factory.config.regressor_name\n",
        "\n",
        "    # Create result file using pipeline regressor as name\n",
        "    result_file = open(\n",
        "        f\"{DIRECT_RESULTS_FOLDER}/{pipeline_name}.json\",\n",
        "        \"w\",\n",
        "    )\n",
        "\n",
        "    # Run kfold\n",
        "    result = iteration.run(X,y)\n",
        "\n",
        "    print(result)\n",
        "    print(result.__class__)\n",
        "\n",
        "    # Save results\n",
        "    json.dump({k:a.tolist() for k,a in result.items()}, result_file)\n",
        "\n",
        "    # Close file\n",
        "    result_file.close()\n",
        "\n",
        "    # Save results in direct_results\n",
        "    direct_results[pipeline_name]=result\n",
        "\n",
        "    # Save iteration pipeline factory\n",
        "    direct_pipelines[pipeline_name]=iteration.pipeline_factory\n"
      ]
    },
    {
      "cell_type": "code",
      "execution_count": 11,
      "metadata": {},
      "outputs": [
        {
          "data": {
            "text/html": [
              "<div>\n",
              "<style scoped>\n",
              "    .dataframe tbody tr th:only-of-type {\n",
              "        vertical-align: middle;\n",
              "    }\n",
              "\n",
              "    .dataframe tbody tr th {\n",
              "        vertical-align: top;\n",
              "    }\n",
              "\n",
              "    .dataframe thead th {\n",
              "        text-align: right;\n",
              "    }\n",
              "</style>\n",
              "<table border=\"1\" class=\"dataframe\">\n",
              "  <thead>\n",
              "    <tr style=\"text-align: right;\">\n",
              "      <th>Metric</th>\n",
              "      <th>fit_time</th>\n",
              "      <th>score_time</th>\n",
              "      <th>test_MSE</th>\n",
              "      <th>test_R2</th>\n",
              "    </tr>\n",
              "    <tr>\n",
              "      <th>Pipeline</th>\n",
              "      <th></th>\n",
              "      <th></th>\n",
              "      <th></th>\n",
              "      <th></th>\n",
              "    </tr>\n",
              "  </thead>\n",
              "  <tbody>\n",
              "    <tr>\n",
              "      <th>Degree 2 Polynomial-Baseline</th>\n",
              "      <td>0.094523</td>\n",
              "      <td>0.007341</td>\n",
              "      <td>1.359811</td>\n",
              "      <td>0.533023</td>\n",
              "    </tr>\n",
              "    <tr>\n",
              "      <th>Degree 2 Polynomial-DT</th>\n",
              "      <td>0.621395</td>\n",
              "      <td>0.008979</td>\n",
              "      <td>0.003250</td>\n",
              "      <td>0.998884</td>\n",
              "    </tr>\n",
              "    <tr>\n",
              "      <th>Degree 2 Polynomial-HBGB LR=0.05</th>\n",
              "      <td>0.878122</td>\n",
              "      <td>0.139409</td>\n",
              "      <td>0.014073</td>\n",
              "      <td>0.995170</td>\n",
              "    </tr>\n",
              "    <tr>\n",
              "      <th>Degree 2 Polynomial-HBGB LR=0.1</th>\n",
              "      <td>0.834664</td>\n",
              "      <td>0.118495</td>\n",
              "      <td>0.006814</td>\n",
              "      <td>0.997662</td>\n",
              "    </tr>\n",
              "    <tr>\n",
              "      <th>Degree 2 Polynomial-HBGB LR=0.4</th>\n",
              "      <td>0.697984</td>\n",
              "      <td>0.092219</td>\n",
              "      <td>0.004401</td>\n",
              "      <td>0.998489</td>\n",
              "    </tr>\n",
              "    <tr>\n",
              "      <th>Degree 2 Polynomial-RF</th>\n",
              "      <td>38.249498</td>\n",
              "      <td>0.383452</td>\n",
              "      <td>0.001215</td>\n",
              "      <td>0.999583</td>\n",
              "    </tr>\n",
              "    <tr>\n",
              "      <th>Degree 2 Polynomial-RF 250</th>\n",
              "      <td>98.279380</td>\n",
              "      <td>1.016862</td>\n",
              "      <td>0.001181</td>\n",
              "      <td>0.999594</td>\n",
              "    </tr>\n",
              "    <tr>\n",
              "      <th>Degree 2 Polynomial-RF MX40</th>\n",
              "      <td>205.560538</td>\n",
              "      <td>53.358261</td>\n",
              "      <td>0.001184</td>\n",
              "      <td>0.999594</td>\n",
              "    </tr>\n",
              "    <tr>\n",
              "      <th>Logarithmic+Cos-Baseline</th>\n",
              "      <td>0.061624</td>\n",
              "      <td>0.004546</td>\n",
              "      <td>2.326645</td>\n",
              "      <td>0.201432</td>\n",
              "    </tr>\n",
              "    <tr>\n",
              "      <th>Logarithmic+Cos-DT</th>\n",
              "      <td>0.338556</td>\n",
              "      <td>0.012895</td>\n",
              "      <td>0.004054</td>\n",
              "      <td>0.998609</td>\n",
              "    </tr>\n",
              "    <tr>\n",
              "      <th>Logarithmic+Cos-HBGB LR=0.05</th>\n",
              "      <td>0.739373</td>\n",
              "      <td>0.114987</td>\n",
              "      <td>0.017354</td>\n",
              "      <td>0.994030</td>\n",
              "    </tr>\n",
              "    <tr>\n",
              "      <th>Logarithmic+Cos-HBGB LR=0.1</th>\n",
              "      <td>0.682157</td>\n",
              "      <td>0.098670</td>\n",
              "      <td>0.007641</td>\n",
              "      <td>0.997370</td>\n",
              "    </tr>\n",
              "    <tr>\n",
              "      <th>Logarithmic+Cos-HBGB LR=0.4</th>\n",
              "      <td>0.569903</td>\n",
              "      <td>0.086441</td>\n",
              "      <td>0.005118</td>\n",
              "      <td>0.998241</td>\n",
              "    </tr>\n",
              "    <tr>\n",
              "      <th>Logarithmic+Cos-RF</th>\n",
              "      <td>21.489305</td>\n",
              "      <td>0.435830</td>\n",
              "      <td>0.000860</td>\n",
              "      <td>0.999705</td>\n",
              "    </tr>\n",
              "    <tr>\n",
              "      <th>Logarithmic+Cos-RF 250</th>\n",
              "      <td>55.016469</td>\n",
              "      <td>1.117487</td>\n",
              "      <td>0.000844</td>\n",
              "      <td>0.999711</td>\n",
              "    </tr>\n",
              "    <tr>\n",
              "      <th>Logarithmic+Cos-RF MX40</th>\n",
              "      <td>118.505564</td>\n",
              "      <td>56.873958</td>\n",
              "      <td>0.000854</td>\n",
              "      <td>0.999707</td>\n",
              "    </tr>\n",
              "    <tr>\n",
              "      <th>Original Features-Baseline</th>\n",
              "      <td>0.018731</td>\n",
              "      <td>0.002916</td>\n",
              "      <td>2.484384</td>\n",
              "      <td>0.147374</td>\n",
              "    </tr>\n",
              "    <tr>\n",
              "      <th>Original Features-DT</th>\n",
              "      <td>0.144392</td>\n",
              "      <td>0.009872</td>\n",
              "      <td>0.003994</td>\n",
              "      <td>0.998630</td>\n",
              "    </tr>\n",
              "    <tr>\n",
              "      <th>Original Features-HBGB LR=0.05</th>\n",
              "      <td>0.435714</td>\n",
              "      <td>0.105371</td>\n",
              "      <td>0.018745</td>\n",
              "      <td>0.993559</td>\n",
              "    </tr>\n",
              "    <tr>\n",
              "      <th>Original Features-HBGB LR=0.1</th>\n",
              "      <td>0.462480</td>\n",
              "      <td>0.091372</td>\n",
              "      <td>0.006495</td>\n",
              "      <td>0.997770</td>\n",
              "    </tr>\n",
              "    <tr>\n",
              "      <th>Original Features-HBGB LR=0.4</th>\n",
              "      <td>0.349815</td>\n",
              "      <td>0.072935</td>\n",
              "      <td>0.004447</td>\n",
              "      <td>0.998475</td>\n",
              "    </tr>\n",
              "    <tr>\n",
              "      <th>Original Features-RF</th>\n",
              "      <td>9.069739</td>\n",
              "      <td>0.369487</td>\n",
              "      <td>0.000951</td>\n",
              "      <td>0.999674</td>\n",
              "    </tr>\n",
              "    <tr>\n",
              "      <th>Original Features-RF 250</th>\n",
              "      <td>22.261090</td>\n",
              "      <td>1.061817</td>\n",
              "      <td>0.000908</td>\n",
              "      <td>0.999688</td>\n",
              "    </tr>\n",
              "    <tr>\n",
              "      <th>Original Features-RF MX40</th>\n",
              "      <td>53.576174</td>\n",
              "      <td>62.788848</td>\n",
              "      <td>0.000925</td>\n",
              "      <td>0.999683</td>\n",
              "    </tr>\n",
              "  </tbody>\n",
              "</table>\n",
              "</div>"
            ],
            "text/plain": [
              "Metric                              fit_time  score_time  test_MSE   test_R2\n",
              "Pipeline                                                                    \n",
              "Degree 2 Polynomial-Baseline        0.094523    0.007341  1.359811  0.533023\n",
              "Degree 2 Polynomial-DT              0.621395    0.008979  0.003250  0.998884\n",
              "Degree 2 Polynomial-HBGB LR=0.05    0.878122    0.139409  0.014073  0.995170\n",
              "Degree 2 Polynomial-HBGB LR=0.1     0.834664    0.118495  0.006814  0.997662\n",
              "Degree 2 Polynomial-HBGB LR=0.4     0.697984    0.092219  0.004401  0.998489\n",
              "Degree 2 Polynomial-RF             38.249498    0.383452  0.001215  0.999583\n",
              "Degree 2 Polynomial-RF 250         98.279380    1.016862  0.001181  0.999594\n",
              "Degree 2 Polynomial-RF MX40       205.560538   53.358261  0.001184  0.999594\n",
              "Logarithmic+Cos-Baseline            0.061624    0.004546  2.326645  0.201432\n",
              "Logarithmic+Cos-DT                  0.338556    0.012895  0.004054  0.998609\n",
              "Logarithmic+Cos-HBGB LR=0.05        0.739373    0.114987  0.017354  0.994030\n",
              "Logarithmic+Cos-HBGB LR=0.1         0.682157    0.098670  0.007641  0.997370\n",
              "Logarithmic+Cos-HBGB LR=0.4         0.569903    0.086441  0.005118  0.998241\n",
              "Logarithmic+Cos-RF                 21.489305    0.435830  0.000860  0.999705\n",
              "Logarithmic+Cos-RF 250             55.016469    1.117487  0.000844  0.999711\n",
              "Logarithmic+Cos-RF MX40           118.505564   56.873958  0.000854  0.999707\n",
              "Original Features-Baseline          0.018731    0.002916  2.484384  0.147374\n",
              "Original Features-DT                0.144392    0.009872  0.003994  0.998630\n",
              "Original Features-HBGB LR=0.05      0.435714    0.105371  0.018745  0.993559\n",
              "Original Features-HBGB LR=0.1       0.462480    0.091372  0.006495  0.997770\n",
              "Original Features-HBGB LR=0.4       0.349815    0.072935  0.004447  0.998475\n",
              "Original Features-RF                9.069739    0.369487  0.000951  0.999674\n",
              "Original Features-RF 250           22.261090    1.061817  0.000908  0.999688\n",
              "Original Features-RF MX40          53.576174   62.788848  0.000925  0.999683"
            ]
          },
          "execution_count": 11,
          "metadata": {},
          "output_type": "execute_result"
        }
      ],
      "source": [
        "# Plot a bar chart with the results\n",
        "# The plot has a bar for every metric grouped by the pipeline name\n",
        "plot_data = pd.DataFrame(\n",
        "    [\n",
        "        {\"Pipeline\": p, \"Metric\": m, \"Value\": v if m not in [\"test_MSE\"] else -v}\n",
        "        for p, r in direct_results.items()\n",
        "        for m, l in r.items()\n",
        "        for v in l\n",
        "    ]\n",
        ")\n",
        "\n",
        "r_data = plot_data.groupby([\"Pipeline\", \"Metric\"]).mean().unstack(-1)\n",
        "r_data.columns=r_data.columns.droplevel(0)\n",
        "r_data"
      ]
    },
    {
      "cell_type": "code",
      "execution_count": 12,
      "metadata": {},
      "outputs": [
        {
          "ename": "KeyError",
          "evalue": "'Logarithmic-DT'",
          "output_type": "error",
          "traceback": [
            "\u001b[0;31m---------------------------------------------------------------------------\u001b[0m",
            "\u001b[0;31mKeyError\u001b[0m                                  Traceback (most recent call last)",
            "Cell \u001b[0;32mIn[12], line 1\u001b[0m\n\u001b[0;32m----> 1\u001b[0m repipe \u001b[38;5;241m=\u001b[39m \u001b[43mdirect_pipelines\u001b[49m\u001b[43m[\u001b[49m\u001b[38;5;124;43m\"\u001b[39;49m\u001b[38;5;124;43mLogarithmic-DT\u001b[39;49m\u001b[38;5;124;43m\"\u001b[39;49m\u001b[43m]\u001b[49m\u001b[38;5;241m.\u001b[39mbuild()\n\u001b[1;32m      3\u001b[0m repipe\u001b[38;5;241m.\u001b[39mfit(X, y)\n\u001b[1;32m      5\u001b[0m real_val \u001b[38;5;241m=\u001b[39m data_val[[\u001b[38;5;124m\"\u001b[39m\u001b[38;5;124mp12\u001b[39m\u001b[38;5;124m\"\u001b[39m]]\n",
            "\u001b[0;31mKeyError\u001b[0m: 'Logarithmic-DT'"
          ]
        }
      ],
      "source": [
        "repipe = direct_pipelines[\"Logarithmic-DT\"].build()\n",
        "\n",
        "repipe.fit(X, y)\n",
        "\n",
        "real_val = data_val[[\"p12\"]]\n",
        "predicted_val = repipe.predict(\n",
        "    data_val[[\"angle\", \"p_matrix\", \"p_fiber\", \"ratio\"]]\n",
        ")"
      ]
    },
    {
      "cell_type": "code",
      "execution_count": null,
      "metadata": {},
      "outputs": [
        {
          "data": {
            "text/plain": [
              "<matplotlib.collections.PathCollection at 0x7fc52e2c2e90>"
            ]
          },
          "execution_count": 14,
          "metadata": {},
          "output_type": "execute_result"
        },
        {
          "data": {
            "image/png": "[encoded data removed]",
            "text/plain": [
              "<Figure size 1000x500 with 1 Axes>"
            ]
          },
          "metadata": {},
          "output_type": "display_data"
        }
      ],
      "source": [
        "plt.figure(figsize=(10, 5))\n",
        "\n",
        "plt.xlim(-.05,.05)\n",
        "plt.ylim(-.05,.05)\n",
        "\n",
        "plt.grid(visible=True)\n",
        "plt.scatter(real_val,predicted_val)"
      ]
    },
    {
      "cell_type": "code",
      "execution_count": null,
      "metadata": {},
      "outputs": [
        {
          "data": {
            "text/plain": [
              "<matplotlib.collections.PathCollection at 0x7fc52e2dd510>"
            ]
          },
          "execution_count": 15,
          "metadata": {},
          "output_type": "execute_result"
        },
        {
          "data": {
            "image/png": "[encoded data removed]",
            "text/plain": [
              "<Figure size 1000x500 with 1 Axes>"
            ]
          },
          "metadata": {},
          "output_type": "display_data"
        }
      ],
      "source": [
        "repipe = direct_pipelines[\"Degree 2 Polynomial-DT\"].build()\n",
        "\n",
        "repipe.fit(X, data[[\"p11\"]])\n",
        "\n",
        "real_val = data_val_sp[[\"p11\"]]\n",
        "predicted_val = repipe.predict(data_val_sp[[\"angle\", \"p_matrix\", \"p_fiber\", \"ratio\"]])\n",
        "\n",
        "plt.figure(figsize=(10, 5))\n",
        "plt.xlim(-1, 8)\n",
        "plt.ylim(-1, 8)\n",
        "plt.grid(visible=True)\n",
        "plt.scatter(real_val, predicted_val)"
      ]
    }
  ],
  "metadata": {
    "colab": {
      "provenance": []
    },
    "kernelspec": {
      "display_name": "Python 3",
      "name": "python3"
    },
    "language_info": {
      "codemirror_mode": {
        "name": "ipython",
        "version": 3
      },
      "file_extension": ".py",
      "mimetype": "text/x-python",
      "name": "python",
      "nbconvert_exporter": "python",
      "pygments_lexer": "ipython3",
      "version": "3.11.6"
    }
  },
  "nbformat": 4,
  "nbformat_minor": 0
}
